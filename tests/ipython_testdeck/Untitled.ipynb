{
 "cells": [
  {
   "cell_type": "code",
   "execution_count": 1,
   "id": "eb73faa2",
   "metadata": {},
   "outputs": [],
   "source": [
    "import numpy as np\n",
    "import ccpy"
   ]
  },
  {
   "cell_type": "code",
   "execution_count": 2,
   "id": "cbf36c72",
   "metadata": {},
   "outputs": [
    {
     "name": "stdout",
     "output_type": "stream",
     "text": [
      "   System Information:\n",
      "   ----------------------------------------------------\n",
      "     Number of correlated electrons = 14\n",
      "     Number of correlated orbitals = 28\n",
      "     Number of frozen orbitals = 2\n",
      "     Number of alpha occupied orbitals = 7\n",
      "     Number of alpha unoccupied orbitals = 21\n",
      "     Number of beta occupied orbitals = 7\n",
      "     Number of beta unoccupied orbitals = 21\n",
      "     Charge = 0\n",
      "     Point group = D2H\n",
      "     Symmetry of reference = AG\n",
      "     Spin multiplicity of reference = 1\n",
      "\n",
      "      MO #        Energy (a.u.)      Symmetry    Occupation\n",
      "-----------------------------------------------------------\n",
      "         1           -26.443089            AG           2.0\n",
      "         2           -26.442989           B1U           2.0\n",
      "         3            -1.597199            AG           2.0\n",
      "         4            -1.589099           B1U           2.0\n",
      "         5            -0.725600           B3U           2.0\n",
      "         6            -0.725600           B2U           2.0\n",
      "         7            -0.722400           B2G           2.0\n",
      "         8            -0.722400           B3G           2.0\n",
      "         9            -0.479000            AG           2.0\n",
      "        10            -0.250900           B1U           0.0\n",
      "        11             1.296299            AG           0.0\n",
      "        12             1.356299           B2U           0.0\n",
      "        13             1.356299           B3U           0.0\n",
      "        14             1.389499           B3G           0.0\n",
      "        15             1.389499           B2G           0.0\n",
      "        16             1.483199           B1U           0.0\n",
      "        17             1.541899            AG           0.0\n",
      "        18             1.637199           B1U           0.0\n",
      "        19             3.890298            AG           0.0\n",
      "        20             3.893598           B1U           0.0\n",
      "        21             3.896698           B2U           0.0\n",
      "        22             3.896698           B3U           0.0\n",
      "        23             3.897898           B3G           0.0\n",
      "        24             3.897898           B2G           0.0\n",
      "        25             3.913598           B1G           0.0\n",
      "        26             3.913598            AG           0.0\n",
      "        27             3.913598            AU           0.0\n",
      "        28             3.913598           B1U           0.0\n",
      "        29             7.541697            AG           0.0\n",
      "        30             7.601697           B1U           0.0\n",
      "\n",
      "   Nuclear Repulsion Energy = 15.1789997601\n",
      "   Reference Energy = -198.42009628236005\n",
      "\n"
     ]
    }
   ],
   "source": [
    "from ccpy.interfaces.gamess_tools import load_from_gamess\n",
    "\n",
    "nfrozen = 2\n",
    "system, H = load_from_gamess(\"f2-2Re.log\",\n",
    "                             \"onebody.inp\",\n",
    "                             \"twobody.inp\",\n",
    "                             nfrozen)\n",
    "system.print_info()"
   ]
  },
  {
   "cell_type": "code",
   "execution_count": 3,
   "id": "8757dbaa",
   "metadata": {},
   "outputs": [],
   "source": [
    "from ccpy.models.calculation import Calculation\n",
    "from ccpy.drivers.cc import driver\n",
    "\n",
    "calculation = Calculation(\n",
    "    order=2,\n",
    "    calculation_type=\"ccsd\",\n",
    "    convergence_tolerance=1.0e-08,\n",
    ")"
   ]
  },
  {
   "cell_type": "code",
   "execution_count": 5,
   "id": "8d8e31f3",
   "metadata": {},
   "outputs": [
    {
     "name": "stdout",
     "output_type": "stream",
     "text": [
      "        _____    _____    __ __      __  __   \n",
      "       /\\ __/\\  /\\ __/\\  /_/\\__/\\  /\\  /\\  /\\ \n",
      "       ) )__\\/  ) )__\\/  ) ) ) ) ) \\ \\ \\/ / / \n",
      "      / / /    / / /    /_/ /_/ /   \\ \\__/ /  \n",
      "      \\ \\ \\_   \\ \\ \\_   \\ \\ \\_\\/     \\__/ /   \n",
      "       ) )__/\\  ) )__/\\  )_) )       / / /    \n",
      "       \\/___\\/  \\/___\\/  \\_\\/        \\/_/     \n",
      "                                              \n",
      "\n",
      "   Authors:\n",
      "    Karthik Gururangan (gururang@msu.edu)\n",
      "    J. Emiliano Deustua (edeustua@caltech.edu)\n",
      "    Affiliated with the Piecuch Group at Michigan State University\n",
      "\n",
      "\n",
      "   System Information:\n",
      "   ----------------------------------------------------\n",
      "     Number of correlated electrons = 14\n",
      "     Number of correlated orbitals = 28\n",
      "     Number of frozen orbitals = 2\n",
      "     Number of alpha occupied orbitals = 7\n",
      "     Number of alpha unoccupied orbitals = 21\n",
      "     Number of beta occupied orbitals = 7\n",
      "     Number of beta unoccupied orbitals = 21\n",
      "     Charge = 0\n",
      "     Point group = D2H\n",
      "     Symmetry of reference = AG\n",
      "     Spin multiplicity of reference = 1\n",
      "\n",
      "      MO #        Energy (a.u.)      Symmetry    Occupation\n",
      "-----------------------------------------------------------\n",
      "         1           -26.443089            AG           2.0\n",
      "         2           -26.442989           B1U           2.0\n",
      "         3            -1.597199            AG           2.0\n",
      "         4            -1.589099           B1U           2.0\n",
      "         5            -0.725600           B3U           2.0\n",
      "         6            -0.725600           B2U           2.0\n",
      "         7            -0.722400           B2G           2.0\n",
      "         8            -0.722400           B3G           2.0\n",
      "         9            -0.479000            AG           2.0\n",
      "        10            -0.250900           B1U           0.0\n",
      "        11             1.296299            AG           0.0\n",
      "        12             1.356299           B2U           0.0\n",
      "        13             1.356299           B3U           0.0\n",
      "        14             1.389499           B3G           0.0\n",
      "        15             1.389499           B2G           0.0\n",
      "        16             1.483199           B1U           0.0\n",
      "        17             1.541899            AG           0.0\n",
      "        18             1.637199           B1U           0.0\n",
      "        19             3.890298            AG           0.0\n",
      "        20             3.893598           B1U           0.0\n",
      "        21             3.896698           B2U           0.0\n",
      "        22             3.896698           B3U           0.0\n",
      "        23             3.897898           B3G           0.0\n",
      "        24             3.897898           B2G           0.0\n",
      "        25             3.913598           B1G           0.0\n",
      "        26             3.913598            AG           0.0\n",
      "        27             3.913598            AU           0.0\n",
      "        28             3.913598           B1U           0.0\n",
      "        29             7.541697            AG           0.0\n",
      "        30             7.601697           B1U           0.0\n",
      "\n",
      "   Nuclear Repulsion Energy = 15.1789997601\n",
      "   Reference Energy = -198.42009628236005\n",
      "\n",
      "   --------------------------------------------------\n",
      "   Calculation type =  CCSD\n",
      "   Maximum iterations = 60\n",
      "   Convergence tolerance = 1e-08\n",
      "   Energy shift = 0.0\n",
      "   DIIS size =  6\n",
      "   RHF symmetry = False\n",
      "   --------------------------------------------------\n",
      "\n",
      "   CC calculation started at 2022-03-02 11:07:00 \n",
      "\n",
      "   Energy of initial guess =         0.0000000000\n",
      "\n",
      "                 Iter.         Residuum                 δE                  ΔE               Wall time\n",
      "-----------------------------------------------------------------------------------------------------\n",
      "                   0         0.7713827724        -0.5760306882        -0.5760306882          (0.0m 0.1s)\n",
      "                   1         0.2113849398         0.0049097381        -0.5711209501          (0.0m 0.1s)\n",
      "                   2         0.0735896832        -0.0237563881        -0.5948773382          (0.0m 0.1s)\n",
      "                   3         0.0228918799         0.0075473413        -0.5873299969          (0.0m 0.1s)\n",
      "                   4         0.0192884561        -0.0067608706        -0.5940908674          (0.0m 0.1s)\n",
      "                   5         0.0085680576         0.0031478398        -0.5909430276          (0.0m 0.1s)\n",
      "   DIIS Cycle - 1\n",
      "                   6         0.0061347896        -0.0022108063        -0.5931538339          (0.0m 0.1s)\n",
      "                   7         0.0003745955         0.0006912993        -0.5924625346          (0.0m 0.1s)\n",
      "                   8         0.0003382442        -0.0000042833        -0.5924668179          (0.0m 0.1s)\n",
      "                   9         0.0003091571         0.0000025239        -0.5924642940          (0.0m 0.2s)\n",
      "                  10         0.0002827373        -0.0000014667        -0.5924657607          (0.0m 0.1s)\n",
      "                  11         0.0002586910         0.0000006767        -0.5924650840          (0.0m 0.1s)\n",
      "   DIIS Cycle - 2\n",
      "                  12         0.0002366994        -0.0000005390        -0.5924656230          (0.0m 0.1s)\n",
      "                  13         0.0000006877        -0.0000006698        -0.5924662928          (0.0m 0.1s)\n",
      "                  14         0.0000001672        -0.0000000362        -0.5924663290          (0.0m 0.1s)\n",
      "                  15         0.0000001508         0.0000000489        -0.5924662801          (0.0m 0.1s)\n",
      "                  16         0.0000000533        -0.0000000181        -0.5924662982          (0.0m 0.1s)\n",
      "                  17         0.0000000433         0.0000000152        -0.5924662830          (0.0m 0.1s)\n",
      "   DIIS Cycle - 3\n",
      "                  18         0.0000000203        -0.0000000073        -0.5924662903          (0.0m 0.1s)\n",
      "                  19         0.0000000020         0.0000000035        -0.5924662869          (0.0m 0.1s)\n",
      "   CC calculation successfully converged! (0.00m  2.36s)\n",
      "\n",
      "   CC Calculation Summary\n",
      "  --------------------------------------------------\n",
      "   Reference energy                   -198.42009628\n",
      "   CC correlation energy                -0.59246629\n",
      "   Total CC energy                    -199.01256257\n",
      "\n",
      "CC calculation ended at 2022-03-02 11:07:46\n"
     ]
    }
   ],
   "source": [
    "T, total_energy, is_converged = driver(calculation, system, H)"
   ]
  },
  {
   "cell_type": "code",
   "execution_count": 3,
   "id": "fe182bb3",
   "metadata": {},
   "outputs": [],
   "source": [
    "from ccpy.models.operators import ClusterOperator\n",
    "\n",
    "T = ClusterOperator(system, 2)\n",
    "\n",
    "setattr(T, 'a', np.load('t1a.npy'))\n",
    "setattr(T, 'b', np.load('t1b.npy'))\n",
    "setattr(T, 'aa', np.load('t2a.npy'))\n",
    "setattr(T, 'ab', np.load('t2b.npy'))\n",
    "setattr(T, 'bb', np.load('t2c.npy'))"
   ]
  },
  {
   "cell_type": "code",
   "execution_count": 4,
   "id": "df16a744",
   "metadata": {},
   "outputs": [
    {
     "name": "stdout",
     "output_type": "stream",
     "text": [
      "-0.5924662868564046\n"
     ]
    }
   ],
   "source": [
    "from ccpy.drivers.cc_energy import get_cc_energy\n",
    "\n",
    "Ecc = get_cc_energy(T, H)\n",
    "\n",
    "print(Ecc)"
   ]
  },
  {
   "cell_type": "code",
   "execution_count": 5,
   "id": "9b2226ca",
   "metadata": {},
   "outputs": [],
   "source": [
    "from ccpy.hbar.hbar_ccs import get_ccs_intermediates"
   ]
  },
  {
   "cell_type": "code",
   "execution_count": 6,
   "id": "cfd34e18",
   "metadata": {},
   "outputs": [],
   "source": [
    "Hbar = get_ccs_intermediates(T, H)"
   ]
  },
  {
   "cell_type": "code",
   "execution_count": 7,
   "id": "429b2ec6",
   "metadata": {},
   "outputs": [
    {
     "name": "stdout",
     "output_type": "stream",
     "text": [
      "oooo -> 4.40616895454801\n",
      "vvvv -> 14.935168873098018\n",
      "vvov -> 2.76471434612651\n",
      "vooo -> 1.5372368394569402\n",
      "voov -> 6.425886076154546\n",
      "ooov -> 1.488376171790874\n",
      "vovv -> 2.724767524041812\n"
     ]
    }
   ],
   "source": [
    "attrs = ['oooo', 'vvvv', 'vvov', 'vooo', 'voov', 'ooov', 'vovv']\n",
    "for attr in attrs:\n",
    "    value = getattr(Hbar.aa, attr)\n",
    "    print(attr,'->',np.linalg.norm(value.flatten()))"
   ]
  },
  {
   "cell_type": "code",
   "execution_count": 8,
   "id": "5222782d",
   "metadata": {},
   "outputs": [
    {
     "name": "stdout",
     "output_type": "stream",
     "text": [
      "oooo -> 4.334852603286639\n",
      "vvvv -> 11.839971346310975\n",
      "ovov -> 7.105575752155591\n",
      "voov -> 1.327681741761824\n",
      "ovvo -> 1.327681741762483\n",
      "vovo -> 7.105575752144446\n",
      "ovoo -> 1.5419408705032471\n",
      "vooo -> 1.54205299175669\n",
      "vvvo -> 2.4672176653670084\n",
      "vvov -> 2.4155593159727644\n",
      "ooov -> 1.5420788723442092\n",
      "vovv -> 2.4098503854845585\n",
      "ovvv -> 2.409850385486774\n",
      "oovo -> 1.5420788723403278\n"
     ]
    }
   ],
   "source": [
    "attrs = ['oooo', 'vvvv', 'ovov', 'voov', 'ovvo', 'vovo',\n",
    "         'ovoo', 'vooo', 'vvvo', 'vvov', 'ooov', 'vovv', \n",
    "         'ovvv', 'oovo']\n",
    "for attr in attrs:\n",
    "    value = getattr(Hbar.ab, attr)\n",
    "    print(attr,'->',np.linalg.norm(value.flatten()))"
   ]
  },
  {
   "cell_type": "code",
   "execution_count": 9,
   "id": "f2008637",
   "metadata": {},
   "outputs": [
    {
     "name": "stdout",
     "output_type": "stream",
     "text": [
      "oooo -> 4.406168954537705\n",
      "vvvv -> 14.935168873107644\n",
      "vvov -> 2.7647143461138914\n",
      "vooo -> 1.5372368394493467\n",
      "voov -> 6.425886076149179\n",
      "ooov -> 1.4883761717871005\n",
      "vovv -> 2.724767524043577\n"
     ]
    }
   ],
   "source": [
    "attrs = ['oooo', 'vvvv', 'vvov', 'vooo', 'voov', 'ooov', 'vovv']\n",
    "for attr in attrs:\n",
    "    value = getattr(Hbar.bb, attr)\n",
    "    print(attr,'->',np.linalg.norm(value.flatten()))"
   ]
  },
  {
   "cell_type": "code",
   "execution_count": null,
   "id": "7f3c4905",
   "metadata": {},
   "outputs": [],
   "source": []
  },
  {
   "cell_type": "code",
   "execution_count": null,
   "id": "868a9598",
   "metadata": {},
   "outputs": [],
   "source": []
  }
 ],
 "metadata": {
  "kernelspec": {
   "display_name": "Python 3 (ipykernel)",
   "language": "python",
   "name": "python3"
  },
  "language_info": {
   "codemirror_mode": {
    "name": "ipython",
    "version": 3
   },
   "file_extension": ".py",
   "mimetype": "text/x-python",
   "name": "python",
   "nbconvert_exporter": "python",
   "pygments_lexer": "ipython3",
   "version": "3.9.7"
  }
 },
 "nbformat": 4,
 "nbformat_minor": 5
}
