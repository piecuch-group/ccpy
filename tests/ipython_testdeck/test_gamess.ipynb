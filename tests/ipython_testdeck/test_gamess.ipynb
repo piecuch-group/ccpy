{
 "cells": [
  {
   "cell_type": "code",
   "execution_count": 1,
   "id": "9ce9c932",
   "metadata": {},
   "outputs": [],
   "source": [
    "import numpy as np\n",
    "import ccpy"
   ]
  },
  {
   "cell_type": "code",
   "execution_count": 2,
   "id": "87922b25",
   "metadata": {},
   "outputs": [
    {
     "name": "stdout",
     "output_type": "stream",
     "text": [
      "   System Information:\n",
      "   ----------------------------------------------------\n",
      "     Number of correlated electrons = 14\n",
      "     Number of correlated orbitals = 28\n",
      "     Number of frozen orbitals = 2\n",
      "     Number of alpha occupied orbitals = 7\n",
      "     Number of alpha unoccupied orbitals = 21\n",
      "     Number of beta occupied orbitals = 7\n",
      "     Number of beta unoccupied orbitals = 21\n",
      "     Charge = 0\n",
      "     Point group = D2H\n",
      "     Symmetry of reference = AG\n",
      "     Spin multiplicity of reference = 1\n",
      "\n",
      "      MO #        Energy (a.u.)      Symmetry    Occupation\n",
      "-----------------------------------------------------------\n",
      "         1           -26.443089            AG           2.0\n",
      "         2           -26.442989           B1U           2.0\n",
      "         3            -1.597199            AG           2.0\n",
      "         4            -1.589099           B1U           2.0\n",
      "         5            -0.725600           B3U           2.0\n",
      "         6            -0.725600           B2U           2.0\n",
      "         7            -0.722400           B2G           2.0\n",
      "         8            -0.722400           B3G           2.0\n",
      "         9            -0.479000            AG           2.0\n",
      "        10            -0.250900           B1U           0.0\n",
      "        11             1.296299            AG           0.0\n",
      "        12             1.356299           B2U           0.0\n",
      "        13             1.356299           B3U           0.0\n",
      "        14             1.389499           B3G           0.0\n",
      "        15             1.389499           B2G           0.0\n",
      "        16             1.483199           B1U           0.0\n",
      "        17             1.541899            AG           0.0\n",
      "        18             1.637199           B1U           0.0\n",
      "        19             3.890298            AG           0.0\n",
      "        20             3.893598           B1U           0.0\n",
      "        21             3.896698           B2U           0.0\n",
      "        22             3.896698           B3U           0.0\n",
      "        23             3.897898           B3G           0.0\n",
      "        24             3.897898           B2G           0.0\n",
      "        25             3.913598           B1G           0.0\n",
      "        26             3.913598            AG           0.0\n",
      "        27             3.913598            AU           0.0\n",
      "        28             3.913598           B1U           0.0\n",
      "        29             7.541697            AG           0.0\n",
      "        30             7.601697           B1U           0.0\n",
      "\n",
      "   Nuclear Repulsion Energy = 15.1789997601\n",
      "   Reference Energy = -198.42009628236005\n",
      "\n"
     ]
    }
   ],
   "source": [
    "from ccpy.interfaces.gamess_tools import load_from_gamess\n",
    "\n",
    "nfrozen = 2\n",
    "system, H = load_from_gamess(\"f2-2Re.log\",\n",
    "                             \"onebody.inp\",\n",
    "                             \"twobody.inp\",\n",
    "                             nfrozen)\n",
    "system.print_info()"
   ]
  },
  {
   "cell_type": "code",
   "execution_count": 3,
   "id": "d5e94304",
   "metadata": {},
   "outputs": [],
   "source": [
    "from ccpy.models.calculation import Calculation\n",
    "from ccpy.drivers.cc import driver\n",
    "\n",
    "calculation = Calculation(\n",
    "    order=2,\n",
    "    calculation_type=\"ccsd\",\n",
    "    convergence_tolerance=1.0e-08,\n",
    ")"
   ]
  },
  {
   "cell_type": "code",
   "execution_count": 5,
   "id": "67cb3f23",
   "metadata": {},
   "outputs": [
    {
     "name": "stdout",
     "output_type": "stream",
     "text": [
      "        _____    _____    __ __      __  __   \n",
      "       /\\ __/\\  /\\ __/\\  /_/\\__/\\  /\\  /\\  /\\ \n",
      "       ) )__\\/  ) )__\\/  ) ) ) ) ) \\ \\ \\/ / / \n",
      "      / / /    / / /    /_/ /_/ /   \\ \\__/ /  \n",
      "      \\ \\ \\_   \\ \\ \\_   \\ \\ \\_\\/     \\__/ /   \n",
      "       ) )__/\\  ) )__/\\  )_) )       / / /    \n",
      "       \\/___\\/  \\/___\\/  \\_\\/        \\/_/     \n",
      "                                              \n",
      "\n",
      "   Authors:\n",
      "    Karthik Gururangan (gururang@msu.edu)\n",
      "    J. Emiliano Deustua (edeustua@caltech.edu)\n",
      "    Affiliated with the Piecuch Group at Michigan State University\n",
      "\n",
      "\n",
      "   System Information:\n",
      "   ----------------------------------------------------\n",
      "     Number of correlated electrons = 14\n",
      "     Number of correlated orbitals = 28\n",
      "     Number of frozen orbitals = 2\n",
      "     Number of alpha occupied orbitals = 7\n",
      "     Number of alpha unoccupied orbitals = 21\n",
      "     Number of beta occupied orbitals = 7\n",
      "     Number of beta unoccupied orbitals = 21\n",
      "     Charge = 0\n",
      "     Point group = D2H\n",
      "     Symmetry of reference = AG\n",
      "     Spin multiplicity of reference = 1\n",
      "\n",
      "      MO #        Energy (a.u.)      Symmetry    Occupation\n",
      "-----------------------------------------------------------\n",
      "         1           -26.443089            AG           2.0\n",
      "         2           -26.442989           B1U           2.0\n",
      "         3            -1.597199            AG           2.0\n",
      "         4            -1.589099           B1U           2.0\n",
      "         5            -0.725600           B3U           2.0\n",
      "         6            -0.725600           B2U           2.0\n",
      "         7            -0.722400           B2G           2.0\n",
      "         8            -0.722400           B3G           2.0\n",
      "         9            -0.479000            AG           2.0\n",
      "        10            -0.250900           B1U           0.0\n",
      "        11             1.296299            AG           0.0\n",
      "        12             1.356299           B2U           0.0\n",
      "        13             1.356299           B3U           0.0\n",
      "        14             1.389499           B3G           0.0\n",
      "        15             1.389499           B2G           0.0\n",
      "        16             1.483199           B1U           0.0\n",
      "        17             1.541899            AG           0.0\n",
      "        18             1.637199           B1U           0.0\n",
      "        19             3.890298            AG           0.0\n",
      "        20             3.893598           B1U           0.0\n",
      "        21             3.896698           B2U           0.0\n",
      "        22             3.896698           B3U           0.0\n",
      "        23             3.897898           B3G           0.0\n",
      "        24             3.897898           B2G           0.0\n",
      "        25             3.913598           B1G           0.0\n",
      "        26             3.913598            AG           0.0\n",
      "        27             3.913598            AU           0.0\n",
      "        28             3.913598           B1U           0.0\n",
      "        29             7.541697            AG           0.0\n",
      "        30             7.601697           B1U           0.0\n",
      "\n",
      "   Nuclear Repulsion Energy = 15.1789997601\n",
      "   Reference Energy = -198.42009628236005\n",
      "\n",
      "   --------------------------------------------------\n",
      "   Calculation type =  CCSD\n",
      "   Maximum iterations = 60\n",
      "   Convergence tolerance = 1e-08\n",
      "   Energy shift = 0.0\n",
      "   DIIS size =  6\n",
      "   RHF symmetry = False\n",
      "   --------------------------------------------------\n",
      "\n",
      "   CC calculation started at 2022-03-03 19:28:00 \n",
      "\n",
      "   Energy of initial guess =         0.0000000000\n",
      "\n",
      "                 Iter.         Residuum                 δE                  ΔE               Wall time\n",
      "-----------------------------------------------------------------------------------------------------\n",
      "                   0         0.7713827724        -0.5760306882        -0.5760306882          (0.0m 0.2s)\n",
      "                   1         0.2113849398         0.0049097381        -0.5711209501          (0.0m 0.2s)\n",
      "                   2         0.0735896832        -0.0237563881        -0.5948773382          (0.0m 0.1s)\n",
      "                   3         0.0228918799         0.0075473413        -0.5873299969          (0.0m 0.2s)\n",
      "                   4         0.0192884561        -0.0067608706        -0.5940908674          (0.0m 0.1s)\n",
      "                   5         0.0085680576         0.0031478398        -0.5909430276          (0.0m 0.2s)\n",
      "   DIIS Cycle - 1\n",
      "                   6         0.0061347896        -0.0022108063        -0.5931538339          (0.0m 0.2s)\n",
      "                   7         0.0003745955         0.0006912993        -0.5924625346          (0.0m 0.2s)\n",
      "                   8         0.0003382442        -0.0000042833        -0.5924668179          (0.0m 0.2s)\n",
      "                   9         0.0003091571         0.0000025239        -0.5924642940          (0.0m 0.1s)\n",
      "                  10         0.0002827373        -0.0000014667        -0.5924657607          (0.0m 0.2s)\n",
      "                  11         0.0002586910         0.0000006767        -0.5924650840          (0.0m 0.2s)\n",
      "   DIIS Cycle - 2\n",
      "                  12         0.0002366994        -0.0000005390        -0.5924656230          (0.0m 0.2s)\n",
      "                  13         0.0000006877        -0.0000006698        -0.5924662928          (0.0m 0.2s)\n",
      "                  14         0.0000001672        -0.0000000362        -0.5924663290          (0.0m 0.2s)\n",
      "                  15         0.0000001508         0.0000000489        -0.5924662801          (0.0m 0.2s)\n",
      "                  16         0.0000000533        -0.0000000181        -0.5924662982          (0.0m 0.2s)\n",
      "                  17         0.0000000433         0.0000000152        -0.5924662830          (0.0m 0.2s)\n",
      "   DIIS Cycle - 3\n",
      "                  18         0.0000000203        -0.0000000073        -0.5924662903          (0.0m 0.2s)\n",
      "                  19         0.0000000020         0.0000000035        -0.5924662869          (0.0m 0.2s)\n",
      "   CC calculation successfully converged! (0.00m  3.41s)\n",
      "\n",
      "   CC Calculation Summary\n",
      "  --------------------------------------------------\n",
      "   Reference energy                   -198.42009628\n",
      "   CC correlation energy                -0.59246629\n",
      "   Total CC energy                    -199.01256257\n",
      "\n",
      "CC calculation ended at 2022-03-03 19:28:25\n"
     ]
    }
   ],
   "source": [
    "T, total_energy, is_converged = driver(calculation, system, H)"
   ]
  },
  {
   "cell_type": "code",
   "execution_count": null,
   "id": "b80dc1b1",
   "metadata": {},
   "outputs": [],
   "source": []
  },
  {
   "cell_type": "code",
   "execution_count": 3,
   "id": "d3004311",
   "metadata": {},
   "outputs": [],
   "source": [
    "from ccpy.models.calculation import Calculation\n",
    "from ccpy.drivers.cc import driver\n",
    "\n",
    "calculation = Calculation(\n",
    "    order=3,\n",
    "    calculation_type=\"ccsdt\",\n",
    "    convergence_tolerance=1.0e-08,\n",
    ")"
   ]
  },
  {
   "cell_type": "code",
   "execution_count": 4,
   "id": "b4ed378c",
   "metadata": {},
   "outputs": [
    {
     "name": "stdout",
     "output_type": "stream",
     "text": [
      "        _____    _____    __ __      __  __   \n",
      "       /\\ __/\\  /\\ __/\\  /_/\\__/\\  /\\  /\\  /\\ \n",
      "       ) )__\\/  ) )__\\/  ) ) ) ) ) \\ \\ \\/ / / \n",
      "      / / /    / / /    /_/ /_/ /   \\ \\__/ /  \n",
      "      \\ \\ \\_   \\ \\ \\_   \\ \\ \\_\\/     \\__/ /   \n",
      "       ) )__/\\  ) )__/\\  )_) )       / / /    \n",
      "       \\/___\\/  \\/___\\/  \\_\\/        \\/_/     \n",
      "                                              \n",
      "\n",
      "   Authors:\n",
      "    Karthik Gururangan (gururang@msu.edu)\n",
      "    J. Emiliano Deustua (edeustua@caltech.edu)\n",
      "    Affiliated with the Piecuch Group at Michigan State University\n",
      "\n",
      "\n",
      "   System Information:\n",
      "   ----------------------------------------------------\n",
      "     Number of correlated electrons = 14\n",
      "     Number of correlated orbitals = 28\n",
      "     Number of frozen orbitals = 2\n",
      "     Number of alpha occupied orbitals = 7\n",
      "     Number of alpha unoccupied orbitals = 21\n",
      "     Number of beta occupied orbitals = 7\n",
      "     Number of beta unoccupied orbitals = 21\n",
      "     Charge = 0\n",
      "     Point group = D2H\n",
      "     Symmetry of reference = AG\n",
      "     Spin multiplicity of reference = 1\n",
      "\n",
      "      MO #        Energy (a.u.)      Symmetry    Occupation\n",
      "-----------------------------------------------------------\n",
      "         1           -26.443089            AG           2.0\n",
      "         2           -26.442989           B1U           2.0\n",
      "         3            -1.597199            AG           2.0\n",
      "         4            -1.589099           B1U           2.0\n",
      "         5            -0.725600           B3U           2.0\n",
      "         6            -0.725600           B2U           2.0\n",
      "         7            -0.722400           B2G           2.0\n",
      "         8            -0.722400           B3G           2.0\n",
      "         9            -0.479000            AG           2.0\n",
      "        10            -0.250900           B1U           0.0\n",
      "        11             1.296299            AG           0.0\n",
      "        12             1.356299           B2U           0.0\n",
      "        13             1.356299           B3U           0.0\n",
      "        14             1.389499           B3G           0.0\n",
      "        15             1.389499           B2G           0.0\n",
      "        16             1.483199           B1U           0.0\n",
      "        17             1.541899            AG           0.0\n",
      "        18             1.637199           B1U           0.0\n",
      "        19             3.890298            AG           0.0\n",
      "        20             3.893598           B1U           0.0\n",
      "        21             3.896698           B2U           0.0\n",
      "        22             3.896698           B3U           0.0\n",
      "        23             3.897898           B3G           0.0\n",
      "        24             3.897898           B2G           0.0\n",
      "        25             3.913598           B1G           0.0\n",
      "        26             3.913598            AG           0.0\n",
      "        27             3.913598            AU           0.0\n",
      "        28             3.913598           B1U           0.0\n",
      "        29             7.541697            AG           0.0\n",
      "        30             7.601697           B1U           0.0\n",
      "\n",
      "   Nuclear Repulsion Energy = 15.1789997601\n",
      "   Reference Energy = -198.42009628236005\n",
      "\n",
      "   --------------------------------------------------\n",
      "   Calculation type =  CCSDT\n",
      "   Maximum iterations = 60\n",
      "   Convergence tolerance = 1e-08\n",
      "   Energy shift = 0.0\n",
      "   DIIS size =  6\n",
      "   RHF symmetry = False\n",
      "   --------------------------------------------------\n",
      "\n",
      "   CC calculation started at 2022-03-03 19:43:00 \n",
      "\n",
      "   Energy of initial guess =         0.0000000000\n",
      "\n",
      "                 Iter.         Residuum                 δE                  ΔE               Wall time\n",
      "-----------------------------------------------------------------------------------------------------\n",
      "                   0         0.7950811159        -0.5760306882        -0.5760306882          (0.0m 7.0s)\n",
      "                   1         0.2600493254        -0.0470791241        -0.6231098123          (0.0m 7.5s)\n",
      "                   2         0.0675531345        -0.0074152933        -0.6305251056          (0.0m 7.9s)\n",
      "                   3         0.0268491180        -0.0056209900        -0.6361460955          (0.0m 7.5s)\n",
      "                   4         0.0080199715        -0.0005971399        -0.6367432355          (0.0m 9.0s)\n",
      "                   5         0.0050271346        -0.0012452782        -0.6379885137          (0.0m 8.0s)\n",
      "   DIIS Cycle - 1\n",
      "                   6         0.0014449849         0.0001055181        -0.6378829956         (0.0m 13.3s)\n",
      "                   7         0.0005535378        -0.0003230221        -0.6382060176          (0.0m 8.3s)\n",
      "                   8         0.0005328767        -0.0000073046        -0.6382133222         (0.0m 10.3s)\n",
      "                   9         0.0005204882         0.0000039592        -0.6382093630         (0.0m 10.3s)\n",
      "                  10         0.0005095438        -0.0000031192        -0.6382124822          (0.0m 9.6s)\n",
      "                  11         0.0004991205         0.0000013943        -0.6382110879         (0.0m 13.3s)\n",
      "   DIIS Cycle - 2\n",
      "                  12         0.0004890222        -0.0000012446        -0.6382123326         (0.0m 10.1s)\n",
      "                  13         0.0000194021        -0.0000048967        -0.6382172292          (0.0m 7.5s)\n",
      "                  14         0.0000059426        -0.0000014084        -0.6382186376         (0.0m 10.0s)\n",
      "                  15         0.0000047688         0.0000012946        -0.6382173430          (0.0m 9.7s)\n",
      "                  16         0.0000024469        -0.0000006210        -0.6382179640          (0.0m 9.2s)\n",
      "                  17         0.0000020704         0.0000004502        -0.6382175138          (0.0m 8.8s)\n",
      "   DIIS Cycle - 3\n",
      "                  18         0.0000016602        -0.0000002485        -0.6382177623         (0.0m 10.8s)\n",
      "                  19         0.0000013331         0.0000001095        -0.6382176528          (0.0m 7.2s)\n",
      "                  20         0.0000012968        -0.0000000105        -0.6382176633         (0.0m 10.1s)\n",
      "                  21         0.0000012688         0.0000000087        -0.6382176546         (0.0m 11.1s)\n",
      "                  22         0.0000012428        -0.0000000050        -0.6382176595          (0.0m 8.9s)\n",
      "                  23         0.0000012175         0.0000000028        -0.6382176568         (0.0m 10.3s)\n",
      "   DIIS Cycle - 4\n",
      "                  24         0.0000011929        -0.0000000021        -0.6382176589         (0.0m 11.7s)\n",
      "                  25         0.0000000430        -0.0000000121        -0.6382176710         (0.0m 10.6s)\n",
      "                  26         0.0000000143        -0.0000000036        -0.6382176746          (0.0m 9.2s)\n",
      "                  27         0.0000000119         0.0000000034        -0.6382176712          (0.0m 9.5s)\n",
      "                  28         0.0000000062        -0.0000000016        -0.6382176728          (0.0m 9.0s)\n",
      "   CC calculation successfully converged! (4.00m  35.52s)\n",
      "\n",
      "   CC Calculation Summary\n",
      "  --------------------------------------------------\n",
      "   Reference energy                   -198.42009628\n",
      "   CC correlation energy                -0.63821767\n",
      "   Total CC energy                    -199.05831396\n",
      "\n",
      "CC calculation ended at 2022-03-03 19:47:40\n"
     ]
    }
   ],
   "source": [
    "T, total_energy, is_converged = driver(calculation, system, H)"
   ]
  },
  {
   "cell_type": "code",
   "execution_count": null,
   "id": "072d766d",
   "metadata": {},
   "outputs": [],
   "source": []
  },
  {
   "cell_type": "code",
   "execution_count": null,
   "id": "e42f875e",
   "metadata": {},
   "outputs": [],
   "source": []
  },
  {
   "cell_type": "code",
   "execution_count": null,
   "id": "5b877ff3",
   "metadata": {},
   "outputs": [],
   "source": []
  },
  {
   "cell_type": "code",
   "execution_count": null,
   "id": "05c3771e",
   "metadata": {},
   "outputs": [],
   "source": []
  },
  {
   "cell_type": "code",
   "execution_count": 3,
   "id": "c12fc9a7",
   "metadata": {},
   "outputs": [],
   "source": [
    "from ccpy.models.operators import ClusterOperator\n",
    "\n",
    "T = ClusterOperator(system, 2)\n",
    "\n",
    "setattr(T, 'a', np.load('t1a.npy'))\n",
    "setattr(T, 'b', np.load('t1b.npy'))\n",
    "setattr(T, 'aa', np.load('t2a.npy'))\n",
    "setattr(T, 'ab', np.load('t2b.npy'))\n",
    "setattr(T, 'bb', np.load('t2c.npy'))"
   ]
  },
  {
   "cell_type": "code",
   "execution_count": 4,
   "id": "7397a00f",
   "metadata": {},
   "outputs": [
    {
     "name": "stdout",
     "output_type": "stream",
     "text": [
      "-0.5924662868564046\n"
     ]
    }
   ],
   "source": [
    "from ccpy.drivers.cc_energy import get_cc_energy\n",
    "\n",
    "Ecc = get_cc_energy(T, H)\n",
    "\n",
    "print(Ecc)"
   ]
  },
  {
   "cell_type": "code",
   "execution_count": 5,
   "id": "89205d57",
   "metadata": {},
   "outputs": [],
   "source": [
    "from ccpy.hbar.hbar_ccsd import get_ccsd_intermediates"
   ]
  },
  {
   "cell_type": "code",
   "execution_count": 6,
   "id": "58655337",
   "metadata": {},
   "outputs": [],
   "source": [
    "Hbar = get_ccsd_intermediates(T, H)"
   ]
  },
  {
   "cell_type": "code",
   "execution_count": 7,
   "id": "37104851",
   "metadata": {},
   "outputs": [
    {
     "name": "stdout",
     "output_type": "stream",
     "text": [
      "oo -> 2.86437750315122\n",
      "ov -> 0.01651305045227316\n",
      "vv -> 16.918561038990326\n",
      "vo -> 2.231725716183271e-09\n"
     ]
    }
   ],
   "source": [
    "attrs = ['oo', 'ov', 'vv', 'vo']\n",
    "for attr in attrs:\n",
    "    value = getattr(Hbar.a, attr)\n",
    "    print(attr,'->',np.linalg.norm(value.flatten()))"
   ]
  },
  {
   "cell_type": "code",
   "execution_count": 8,
   "id": "fc4dfa90",
   "metadata": {},
   "outputs": [
    {
     "name": "stdout",
     "output_type": "stream",
     "text": [
      "oo -> 2.8643775031474696\n",
      "ov -> 0.016513050455755147\n",
      "vv -> 16.918561038992458\n",
      "vo -> 2.231725716183271e-09\n"
     ]
    }
   ],
   "source": [
    "attrs = ['oo', 'ov', 'vv', 'vo']\n",
    "for attr in attrs:\n",
    "    value = getattr(Hbar.b, attr)\n",
    "    print(attr,'->',np.linalg.norm(value.flatten()))"
   ]
  },
  {
   "cell_type": "code",
   "execution_count": 7,
   "id": "fdc5f85d",
   "metadata": {},
   "outputs": [
    {
     "name": "stdout",
     "output_type": "stream",
     "text": [
      "oooo -> 4.385718144421259\n",
      "vvvv -> 14.927953220478148\n",
      "vvov -> 1.8449778953965024\n",
      "vooo -> 0.9891864882945884\n",
      "voov -> 6.470525588883125\n",
      "ooov -> 1.488376171790874\n",
      "vovv -> 2.724767524041812\n"
     ]
    }
   ],
   "source": [
    "attrs = ['oooo', 'vvvv', 'vvov', 'vooo', 'voov', 'ooov', 'vovv']\n",
    "for attr in attrs:\n",
    "    value = getattr(Hbar.aa, attr)\n",
    "    print(attr,'->',np.linalg.norm(value.flatten()))"
   ]
  },
  {
   "cell_type": "code",
   "execution_count": 8,
   "id": "35b6599e",
   "metadata": {},
   "outputs": [
    {
     "name": "stdout",
     "output_type": "stream",
     "text": [
      "oooo -> 4.255133986010844\n",
      "vvvv -> 11.807623894375777\n",
      "ovov -> 7.165131442343245\n",
      "voov -> 1.2307709911989486\n",
      "ovvo -> 1.2307709911999734\n",
      "vovo -> 7.165131442332141\n",
      "ovoo -> 1.259959751388678\n",
      "vooo -> 1.259959751381858\n",
      "vvvo -> 1.8904193357420627\n",
      "vvov -> 1.8904193357374672\n",
      "ooov -> 1.5420788723442092\n",
      "vovv -> 2.4098503854845585\n",
      "ovvv -> 2.4098503854867737\n",
      "oovo -> 1.5420788723403278\n"
     ]
    }
   ],
   "source": [
    "attrs = ['oooo', 'vvvv', 'ovov', 'voov', 'ovvo', 'vovo',\n",
    "         'ovoo', 'vooo', 'vvvo', 'vvov', 'ooov', 'vovv', \n",
    "         'ovvv', 'oovo']\n",
    "\n",
    "for attr in attrs:\n",
    "    value = getattr(Hbar.ab, attr)\n",
    "    print(attr,'->',np.linalg.norm(value.flatten()))"
   ]
  },
  {
   "cell_type": "code",
   "execution_count": 9,
   "id": "746ecb02",
   "metadata": {},
   "outputs": [
    {
     "name": "stdout",
     "output_type": "stream",
     "text": [
      "oooo -> 4.385718144411174\n",
      "vvvv -> 14.92795322048783\n",
      "vvov -> 1.8449778954059095\n",
      "vooo -> 0.9891864882957732\n",
      "voov -> 6.470525588877627\n",
      "ooov -> 1.4883761717871005\n",
      "vovv -> 2.7247675240435774\n"
     ]
    }
   ],
   "source": [
    "attrs = ['oooo', 'vvvv', 'vvov', 'vooo', 'voov', 'ooov', 'vovv']\n",
    "for attr in attrs:\n",
    "    value = getattr(Hbar.bb, attr)\n",
    "    print(attr,'->',np.linalg.norm(value.flatten()))"
   ]
  },
  {
   "cell_type": "code",
   "execution_count": null,
   "id": "f5d1ce18",
   "metadata": {},
   "outputs": [],
   "source": []
  },
  {
   "cell_type": "code",
   "execution_count": null,
   "id": "a65e08fd",
   "metadata": {},
   "outputs": [],
   "source": []
  }
 ],
 "metadata": {
  "kernelspec": {
   "display_name": "Python 3 (ipykernel)",
   "language": "python",
   "name": "python3"
  },
  "language_info": {
   "codemirror_mode": {
    "name": "ipython",
    "version": 3
   },
   "file_extension": ".py",
   "mimetype": "text/x-python",
   "name": "python",
   "nbconvert_exporter": "python",
   "pygments_lexer": "ipython3",
   "version": "3.9.7"
  }
 },
 "nbformat": 4,
 "nbformat_minor": 5
}
