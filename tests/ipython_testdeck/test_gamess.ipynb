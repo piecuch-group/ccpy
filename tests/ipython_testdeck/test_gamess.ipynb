{
 "cells": [
  {
   "cell_type": "code",
   "execution_count": 5,
   "id": "2bccbcc4",
   "metadata": {},
   "outputs": [],
   "source": [
    "import numpy as np\n",
    "import ccpy"
   ]
  },
  {
   "cell_type": "code",
   "execution_count": 6,
   "id": "f1bf521e",
   "metadata": {},
   "outputs": [],
   "source": [
    "from ccpy.interfaces.gamess_tools import load_from_gamess\n",
    "\n",
    "nfrozen = 2\n",
    "system, H = load_from_gamess(\"f2-2Re.log\",\n",
    "                             \"onebody.inp\",\n",
    "                             \"twobody.inp\",\n",
    "                             nfrozen)"
   ]
  },
  {
   "cell_type": "code",
   "execution_count": 7,
   "id": "d82e1c44",
   "metadata": {},
   "outputs": [],
   "source": [
    "from ccpy.models.calculation import Calculation\n",
    "from ccpy.drivers.driver import cc_driver\n",
    "\n",
    "calculation = Calculation(\n",
    "    order=2,\n",
    "    calculation_type=\"ccsd\",\n",
    "    convergence_tolerance=1.0e-08,\n",
    ")"
   ]
  },
  {
   "cell_type": "code",
   "execution_count": 8,
   "id": "fcb5604e",
   "metadata": {},
   "outputs": [
    {
     "name": "stdout",
     "output_type": "stream",
     "text": [
      "        _____    _____    __ __      __  __   \n",
      "       /\\ __/\\  /\\ __/\\  /_/\\__/\\  /\\  /\\  /\\ \n",
      "       ) )__\\/  ) )__\\/  ) ) ) ) ) \\ \\ \\/ / / \n",
      "      / / /    / / /    /_/ /_/ /   \\ \\__/ /  \n",
      "      \\ \\ \\_   \\ \\ \\_   \\ \\ \\_\\/     \\__/ /   \n",
      "       ) )__/\\  ) )__/\\  )_) )       / / /    \n",
      "       \\/___\\/  \\/___\\/  \\_\\/        \\/_/     \n",
      "                                              \n",
      "\n",
      "   Authors:\n",
      "    Karthik Gururangan (gururang@msu.edu)\n",
      "    J. Emiliano Deustua (edeustua@caltech.edu)\n",
      "    Affiliated with the Piecuch Group at Michigan State University\n",
      "\n",
      "\n",
      "   System Information:\n",
      "   ----------------------------------------------------\n",
      "     Number of correlated electrons = 14\n",
      "     Number of correlated orbitals = 28\n",
      "     Number of frozen orbitals = 2\n",
      "     Number of alpha occupied orbitals = 7\n",
      "     Number of alpha unoccupied orbitals = 21\n",
      "     Number of beta occupied orbitals = 7\n",
      "     Number of beta unoccupied orbitals = 21\n",
      "     Charge = 0\n",
      "     Point group = D2H\n",
      "     Symmetry of reference = AG\n",
      "     Spin multiplicity of reference = 1\n",
      "\n",
      "      MO #        Energy (a.u.)      Symmetry    Occupation\n",
      "-----------------------------------------------------------\n",
      "         1           -26.443089            AG           2.0\n",
      "         2           -26.442989           B1U           2.0\n",
      "         3            -1.597199            AG           2.0\n",
      "         4            -1.589099           B1U           2.0\n",
      "         5            -0.725600           B3U           2.0\n",
      "         6            -0.725600           B2U           2.0\n",
      "         7            -0.722400           B2G           2.0\n",
      "         8            -0.722400           B3G           2.0\n",
      "         9            -0.479000            AG           2.0\n",
      "        10            -0.250900           B1U           0.0\n",
      "        11             1.296299            AG           0.0\n",
      "        12             1.356299           B2U           0.0\n",
      "        13             1.356299           B3U           0.0\n",
      "        14             1.389499           B3G           0.0\n",
      "        15             1.389499           B2G           0.0\n",
      "        16             1.483199           B1U           0.0\n",
      "        17             1.541899            AG           0.0\n",
      "        18             1.637199           B1U           0.0\n",
      "        19             3.890298            AG           0.0\n",
      "        20             3.893598           B1U           0.0\n",
      "        21             3.896698           B2U           0.0\n",
      "        22             3.896698           B3U           0.0\n",
      "        23             3.897898           B3G           0.0\n",
      "        24             3.897898           B2G           0.0\n",
      "        25             3.913598           B1G           0.0\n",
      "        26             3.913598            AG           0.0\n",
      "        27             3.913598            AU           0.0\n",
      "        28             3.913598           B1U           0.0\n",
      "        29             7.541697            AG           0.0\n",
      "        30             7.601697           B1U           0.0\n",
      "\n",
      "   Nuclear Repulsion Energy = 15.1789997601\n",
      "   Reference Energy = -198.42009628236005\n",
      "\n",
      "   --------------------------------------------------\n",
      "   Calculation type =  CCSD\n",
      "   Maximum iterations = 60\n",
      "   Convergence tolerance = 1e-08\n",
      "   Energy shift = 0.0\n",
      "   DIIS size =  6\n",
      "   RHF symmetry = False\n",
      "   --------------------------------------------------\n",
      "\n",
      "   CC calculation started at 2022-03-04 11:32:00 \n",
      "\n",
      "   Energy of initial guess =         0.0000000000\n",
      "\n",
      "                 Iter.         Residuum                 δE                  ΔE               Wall time\n",
      "-----------------------------------------------------------------------------------------------------\n",
      "                   0         0.7713827724        -0.5760306882        -0.5760306882          (0.0m 0.1s)\n",
      "                   1         0.2113849398         0.0049097381        -0.5711209501          (0.0m 0.1s)\n",
      "                   2         0.0735896832        -0.0237563881        -0.5948773382          (0.0m 0.1s)\n",
      "                   3         0.0228918799         0.0075473413        -0.5873299969          (0.0m 0.1s)\n",
      "                   4         0.0192884561        -0.0067608706        -0.5940908674          (0.0m 0.1s)\n",
      "                   5         0.0085680576         0.0031478398        -0.5909430276          (0.0m 0.1s)\n",
      "   DIIS Cycle - 1\n",
      "                   6         0.0061347896        -0.0022108063        -0.5931538339          (0.0m 0.1s)\n",
      "                   7         0.0003745955         0.0006912993        -0.5924625346          (0.0m 0.1s)\n",
      "                   8         0.0003382442        -0.0000042833        -0.5924668179          (0.0m 0.1s)\n",
      "                   9         0.0003091571         0.0000025239        -0.5924642940          (0.0m 0.1s)\n",
      "                  10         0.0002827373        -0.0000014667        -0.5924657607          (0.0m 0.1s)\n",
      "                  11         0.0002586910         0.0000006767        -0.5924650840          (0.0m 0.1s)\n",
      "   DIIS Cycle - 2\n",
      "                  12         0.0002366994        -0.0000005390        -0.5924656230          (0.0m 0.1s)\n",
      "                  13         0.0000006877        -0.0000006698        -0.5924662928          (0.0m 0.1s)\n",
      "                  14         0.0000001672        -0.0000000362        -0.5924663290          (0.0m 0.1s)\n",
      "                  15         0.0000001508         0.0000000489        -0.5924662801          (0.0m 0.1s)\n",
      "                  16         0.0000000533        -0.0000000181        -0.5924662982          (0.0m 0.1s)\n",
      "                  17         0.0000000433         0.0000000152        -0.5924662830          (0.0m 0.1s)\n",
      "   DIIS Cycle - 3\n",
      "                  18         0.0000000203        -0.0000000073        -0.5924662903          (0.0m 0.2s)\n",
      "                  19         0.0000000020         0.0000000035        -0.5924662869          (0.0m 0.1s)\n",
      "   CC calculation successfully converged! (0.00m  2.32s)\n",
      "\n",
      "   CC Calculation Summary\n",
      "  --------------------------------------------------\n",
      "   Reference energy                   -198.42009628\n",
      "   CC correlation energy                -0.59246629\n",
      "   Total CC energy                    -199.01256257\n",
      "\n",
      "CC calculation ended at 2022-03-04 11:32:23\n"
     ]
    }
   ],
   "source": [
    "T, total_energy, is_converged = cc_driver(calculation, system, H)"
   ]
  },
  {
   "cell_type": "code",
   "execution_count": null,
   "id": "0857263a",
   "metadata": {},
   "outputs": [],
   "source": []
  },
  {
   "cell_type": "code",
   "execution_count": 9,
   "id": "56bc8a86",
   "metadata": {},
   "outputs": [],
   "source": [
    "calculation = Calculation(\n",
    "    order=3,\n",
    "    calculation_type=\"ccsdt\",\n",
    "    convergence_tolerance=1.0e-08,\n",
    ")"
   ]
  },
  {
   "cell_type": "code",
   "execution_count": 10,
   "id": "6ec879d2",
   "metadata": {},
   "outputs": [
    {
     "name": "stdout",
     "output_type": "stream",
     "text": [
      "        _____    _____    __ __      __  __   \n",
      "       /\\ __/\\  /\\ __/\\  /_/\\__/\\  /\\  /\\  /\\ \n",
      "       ) )__\\/  ) )__\\/  ) ) ) ) ) \\ \\ \\/ / / \n",
      "      / / /    / / /    /_/ /_/ /   \\ \\__/ /  \n",
      "      \\ \\ \\_   \\ \\ \\_   \\ \\ \\_\\/     \\__/ /   \n",
      "       ) )__/\\  ) )__/\\  )_) )       / / /    \n",
      "       \\/___\\/  \\/___\\/  \\_\\/        \\/_/     \n",
      "                                              \n",
      "\n",
      "   Authors:\n",
      "    Karthik Gururangan (gururang@msu.edu)\n",
      "    J. Emiliano Deustua (edeustua@caltech.edu)\n",
      "    Affiliated with the Piecuch Group at Michigan State University\n",
      "\n",
      "\n",
      "   System Information:\n",
      "   ----------------------------------------------------\n",
      "     Number of correlated electrons = 14\n",
      "     Number of correlated orbitals = 28\n",
      "     Number of frozen orbitals = 2\n",
      "     Number of alpha occupied orbitals = 7\n",
      "     Number of alpha unoccupied orbitals = 21\n",
      "     Number of beta occupied orbitals = 7\n",
      "     Number of beta unoccupied orbitals = 21\n",
      "     Charge = 0\n",
      "     Point group = D2H\n",
      "     Symmetry of reference = AG\n",
      "     Spin multiplicity of reference = 1\n",
      "\n",
      "      MO #        Energy (a.u.)      Symmetry    Occupation\n",
      "-----------------------------------------------------------\n",
      "         1           -26.443089            AG           2.0\n",
      "         2           -26.442989           B1U           2.0\n",
      "         3            -1.597199            AG           2.0\n",
      "         4            -1.589099           B1U           2.0\n",
      "         5            -0.725600           B3U           2.0\n",
      "         6            -0.725600           B2U           2.0\n",
      "         7            -0.722400           B2G           2.0\n",
      "         8            -0.722400           B3G           2.0\n",
      "         9            -0.479000            AG           2.0\n",
      "        10            -0.250900           B1U           0.0\n",
      "        11             1.296299            AG           0.0\n",
      "        12             1.356299           B2U           0.0\n",
      "        13             1.356299           B3U           0.0\n",
      "        14             1.389499           B3G           0.0\n",
      "        15             1.389499           B2G           0.0\n",
      "        16             1.483199           B1U           0.0\n",
      "        17             1.541899            AG           0.0\n",
      "        18             1.637199           B1U           0.0\n",
      "        19             3.890298            AG           0.0\n",
      "        20             3.893598           B1U           0.0\n",
      "        21             3.896698           B2U           0.0\n",
      "        22             3.896698           B3U           0.0\n",
      "        23             3.897898           B3G           0.0\n",
      "        24             3.897898           B2G           0.0\n",
      "        25             3.913598           B1G           0.0\n",
      "        26             3.913598            AG           0.0\n",
      "        27             3.913598            AU           0.0\n",
      "        28             3.913598           B1U           0.0\n",
      "        29             7.541697            AG           0.0\n",
      "        30             7.601697           B1U           0.0\n",
      "\n",
      "   Nuclear Repulsion Energy = 15.1789997601\n",
      "   Reference Energy = -198.42009628236005\n",
      "\n",
      "   --------------------------------------------------\n",
      "   Calculation type =  CCSDT\n",
      "   Maximum iterations = 60\n",
      "   Convergence tolerance = 1e-08\n",
      "   Energy shift = 0.0\n",
      "   DIIS size =  6\n",
      "   RHF symmetry = False\n",
      "   --------------------------------------------------\n",
      "\n",
      "   CC calculation started at 2022-03-04 11:32:00 \n",
      "\n",
      "   Energy of initial guess =         0.0000000000\n",
      "\n",
      "                 Iter.         Residuum                 δE                  ΔE               Wall time\n",
      "-----------------------------------------------------------------------------------------------------\n",
      "                   0         0.7950811159        -0.5760306882        -0.5760306882          (0.0m 6.8s)\n",
      "                   1         0.2600010078        -0.0470791241        -0.6231098123          (0.0m 7.6s)\n",
      "                   2         0.0673753346        -0.0073211690        -0.6304309812          (0.0m 7.4s)\n",
      "                   3         0.0268057717        -0.0056287070        -0.6360596883          (0.0m 7.5s)\n",
      "                   4         0.0079600985        -0.0005734589        -0.6366331472          (0.0m 7.9s)\n",
      "                   5         0.0050229992        -0.0012493465        -0.6378824937          (0.0m 7.5s)\n",
      "   DIIS Cycle - 1\n",
      "                   6         0.0014377560         0.0001119265        -0.6377705672          (0.0m 8.6s)\n",
      "                   7         0.0005536632        -0.0003227679        -0.6380933351          (0.0m 6.1s)\n",
      "                   8         0.0005331177        -0.0000073408        -0.6381006759          (0.0m 7.5s)\n",
      "                   9         0.0005207203         0.0000039473        -0.6380967286          (0.0m 9.2s)\n",
      "                  10         0.0005097424        -0.0000031174        -0.6380998460          (0.0m 7.9s)\n",
      "                  11         0.0004992781         0.0000013888        -0.6380984572          (0.0m 7.5s)\n",
      "   DIIS Cycle - 2\n",
      "                  12         0.0004891375        -0.0000012394        -0.6380996966          (0.0m 9.8s)\n",
      "                  13         0.0000190081        -0.0000048926        -0.6381045892          (0.0m 7.2s)\n",
      "                  14         0.0000058127        -0.0000013757        -0.6381059649          (0.0m 7.5s)\n",
      "                  15         0.0000046438         0.0000012623        -0.6381047026          (0.0m 7.5s)\n",
      "                  16         0.0000023650        -0.0000006045        -0.6381053071          (0.0m 9.1s)\n",
      "                  17         0.0000019934         0.0000004378        -0.6381048693          (0.0m 7.5s)\n",
      "   DIIS Cycle - 3\n",
      "                  18         0.0000015888        -0.0000002411        -0.6381051104          (0.0m 9.2s)\n",
      "                  19         0.0000012754         0.0000001060        -0.6381050044          (0.0m 6.1s)\n",
      "                  20         0.0000012413        -0.0000000094        -0.6381050138          (0.0m 7.5s)\n",
      "                  21         0.0000012146         0.0000000078        -0.6381050060          (0.0m 7.5s)\n",
      "                  22         0.0000011897        -0.0000000044        -0.6381050105          (0.0m 7.5s)\n",
      "                  23         0.0000011653         0.0000000024        -0.6381050080          (0.0m 7.5s)\n",
      "   DIIS Cycle - 4\n",
      "                  24         0.0000011417        -0.0000000019        -0.6381050100          (0.0m 8.6s)\n",
      "                  25         0.0000000388        -0.0000000117        -0.6381050216          (0.0m 6.1s)\n",
      "                  26         0.0000000128        -0.0000000032        -0.6381050248          (0.0m 7.5s)\n",
      "                  27         0.0000000106         0.0000000030        -0.6381050218          (0.0m 7.5s)\n",
      "                  28         0.0000000054        -0.0000000014        -0.6381050232          (0.0m 7.2s)\n",
      "   CC calculation successfully converged! (3.00m  42.35s)\n",
      "\n",
      "   CC Calculation Summary\n",
      "  --------------------------------------------------\n",
      "   Reference energy                   -198.42009628\n",
      "   CC correlation energy                -0.63810502\n",
      "   Total CC energy                    -199.05820131\n",
      "\n",
      "CC calculation ended at 2022-03-04 11:36:30\n"
     ]
    }
   ],
   "source": [
    "T, total_energy, is_converged = cc_driver(calculation, system, H)"
   ]
  },
  {
   "cell_type": "code",
   "execution_count": null,
   "id": "3bc719ef",
   "metadata": {},
   "outputs": [],
   "source": []
  },
  {
   "cell_type": "code",
   "execution_count": null,
   "id": "4f51879d",
   "metadata": {},
   "outputs": [],
   "source": []
  },
  {
   "cell_type": "code",
   "execution_count": null,
   "id": "47038ed1",
   "metadata": {},
   "outputs": [],
   "source": []
  },
  {
   "cell_type": "code",
   "execution_count": null,
   "id": "9ca0e2b9",
   "metadata": {},
   "outputs": [],
   "source": []
  },
  {
   "cell_type": "code",
   "execution_count": 3,
   "id": "bb7fb4a4",
   "metadata": {},
   "outputs": [],
   "source": [
    "from ccpy.models.operators import ClusterOperator\n",
    "\n",
    "T = ClusterOperator(system, 2)\n",
    "\n",
    "setattr(T, 'a', np.load('t1a.npy'))\n",
    "setattr(T, 'b', np.load('t1b.npy'))\n",
    "setattr(T, 'aa', np.load('t2a.npy'))\n",
    "setattr(T, 'ab', np.load('t2b.npy'))\n",
    "setattr(T, 'bb', np.load('t2c.npy'))"
   ]
  },
  {
   "cell_type": "code",
   "execution_count": 4,
   "id": "fea6ea4a",
   "metadata": {},
   "outputs": [
    {
     "name": "stdout",
     "output_type": "stream",
     "text": [
      "-0.5924662868564046\n"
     ]
    }
   ],
   "source": [
    "from ccpy.drivers.cc_energy import get_cc_energy\n",
    "\n",
    "Ecc = get_cc_energy(T, H)\n",
    "\n",
    "print(Ecc)"
   ]
  },
  {
   "cell_type": "code",
   "execution_count": 5,
   "id": "34a600ed",
   "metadata": {},
   "outputs": [],
   "source": [
    "from ccpy.hbar.hbar_ccsd import get_ccsd_intermediates"
   ]
  },
  {
   "cell_type": "code",
   "execution_count": 6,
   "id": "921e7844",
   "metadata": {},
   "outputs": [],
   "source": [
    "Hbar = get_ccsd_intermediates(T, H)"
   ]
  },
  {
   "cell_type": "code",
   "execution_count": 7,
   "id": "8c6b4b96",
   "metadata": {},
   "outputs": [
    {
     "name": "stdout",
     "output_type": "stream",
     "text": [
      "oo -> 2.86437750315122\n",
      "ov -> 0.01651305045227316\n",
      "vv -> 16.918561038990326\n",
      "vo -> 2.231725716183271e-09\n"
     ]
    }
   ],
   "source": [
    "attrs = ['oo', 'ov', 'vv', 'vo']\n",
    "for attr in attrs:\n",
    "    value = getattr(Hbar.a, attr)\n",
    "    print(attr,'->',np.linalg.norm(value.flatten()))"
   ]
  },
  {
   "cell_type": "code",
   "execution_count": 8,
   "id": "fbb2aea4",
   "metadata": {},
   "outputs": [
    {
     "name": "stdout",
     "output_type": "stream",
     "text": [
      "oo -> 2.8643775031474696\n",
      "ov -> 0.016513050455755147\n",
      "vv -> 16.918561038992458\n",
      "vo -> 2.231725716183271e-09\n"
     ]
    }
   ],
   "source": [
    "attrs = ['oo', 'ov', 'vv', 'vo']\n",
    "for attr in attrs:\n",
    "    value = getattr(Hbar.b, attr)\n",
    "    print(attr,'->',np.linalg.norm(value.flatten()))"
   ]
  },
  {
   "cell_type": "code",
   "execution_count": 7,
   "id": "bb044c9b",
   "metadata": {},
   "outputs": [
    {
     "name": "stdout",
     "output_type": "stream",
     "text": [
      "oooo -> 4.385718144421259\n",
      "vvvv -> 14.927953220478148\n",
      "vvov -> 1.8449778953965024\n",
      "vooo -> 0.9891864882945884\n",
      "voov -> 6.470525588883125\n",
      "ooov -> 1.488376171790874\n",
      "vovv -> 2.724767524041812\n"
     ]
    }
   ],
   "source": [
    "attrs = ['oooo', 'vvvv', 'vvov', 'vooo', 'voov', 'ooov', 'vovv']\n",
    "for attr in attrs:\n",
    "    value = getattr(Hbar.aa, attr)\n",
    "    print(attr,'->',np.linalg.norm(value.flatten()))"
   ]
  },
  {
   "cell_type": "code",
   "execution_count": 8,
   "id": "ad32523d",
   "metadata": {},
   "outputs": [
    {
     "name": "stdout",
     "output_type": "stream",
     "text": [
      "oooo -> 4.255133986010844\n",
      "vvvv -> 11.807623894375777\n",
      "ovov -> 7.165131442343245\n",
      "voov -> 1.2307709911989486\n",
      "ovvo -> 1.2307709911999734\n",
      "vovo -> 7.165131442332141\n",
      "ovoo -> 1.259959751388678\n",
      "vooo -> 1.259959751381858\n",
      "vvvo -> 1.8904193357420627\n",
      "vvov -> 1.8904193357374672\n",
      "ooov -> 1.5420788723442092\n",
      "vovv -> 2.4098503854845585\n",
      "ovvv -> 2.4098503854867737\n",
      "oovo -> 1.5420788723403278\n"
     ]
    }
   ],
   "source": [
    "attrs = ['oooo', 'vvvv', 'ovov', 'voov', 'ovvo', 'vovo',\n",
    "         'ovoo', 'vooo', 'vvvo', 'vvov', 'ooov', 'vovv', \n",
    "         'ovvv', 'oovo']\n",
    "\n",
    "for attr in attrs:\n",
    "    value = getattr(Hbar.ab, attr)\n",
    "    print(attr,'->',np.linalg.norm(value.flatten()))"
   ]
  },
  {
   "cell_type": "code",
   "execution_count": 9,
   "id": "227e35f2",
   "metadata": {},
   "outputs": [
    {
     "name": "stdout",
     "output_type": "stream",
     "text": [
      "oooo -> 4.385718144411174\n",
      "vvvv -> 14.92795322048783\n",
      "vvov -> 1.8449778954059095\n",
      "vooo -> 0.9891864882957732\n",
      "voov -> 6.470525588877627\n",
      "ooov -> 1.4883761717871005\n",
      "vovv -> 2.7247675240435774\n"
     ]
    }
   ],
   "source": [
    "attrs = ['oooo', 'vvvv', 'vvov', 'vooo', 'voov', 'ooov', 'vovv']\n",
    "for attr in attrs:\n",
    "    value = getattr(Hbar.bb, attr)\n",
    "    print(attr,'->',np.linalg.norm(value.flatten()))"
   ]
  },
  {
   "cell_type": "code",
   "execution_count": null,
   "id": "d342ed7d",
   "metadata": {},
   "outputs": [],
   "source": []
  },
  {
   "cell_type": "code",
   "execution_count": null,
   "id": "3d114593",
   "metadata": {},
   "outputs": [],
   "source": []
  }
 ],
 "metadata": {
  "kernelspec": {
   "display_name": "Python 3 (ipykernel)",
   "language": "python",
   "name": "python3"
  },
  "language_info": {
   "codemirror_mode": {
    "name": "ipython",
    "version": 3
   },
   "file_extension": ".py",
   "mimetype": "text/x-python",
   "name": "python",
   "nbconvert_exporter": "python",
   "pygments_lexer": "ipython3",
   "version": "3.9.7"
  }
 },
 "nbformat": 4,
 "nbformat_minor": 5
}
