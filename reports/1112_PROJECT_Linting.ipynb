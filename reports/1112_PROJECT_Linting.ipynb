{
 "cells": [
  {
   "cell_type": "markdown",
   "metadata": {},
   "source": [
    "In order to successfully complete this assignment you need to commit changes to your shared git repository on or before **11:59pm on Friday November 12**."
   ]
  },
  {
   "cell_type": "markdown",
   "metadata": {},
   "source": [
    "# <center>Delinting (linting) your python code</center>\n",
    "\n",
    "<img src=\"https://lh4.googleusercontent.com/i0hZKXrihnUtlAQM6Hb89zo296lPckUN7FVMGih3D7z9WjueaImCXd98pAHA4GzHMrTFLglWqbGa2OxyDa2Y7ihp18ljIiaLIaHwNZSA4sRre3RRxrDcFj2FIv0c=w224\" width=20% alt=\"pyTest logo\">"
   ]
  },
  {
   "cell_type": "markdown",
   "metadata": {},
   "source": [
    "\n",
    "When writing a computer program it is important to keep in mind that the program should not only run correctly, but also be written in a clear way so that other people can understand it. Style guilds exists to help programmers use standard formatting to make it easier for everyone to read.  Probably the most common style guild for Python was introduced as the eight ever \"Python Enhancement Proposal\".  This style guild is called pep8: \n",
    "\n",
    "### Python Enhancement Proposal Eight:\n",
    "* [PEP 8 -- Style Guild for Python](https://www.python.org/dev/peps/pep-0008/)\n",
    "* [A little cleaner pep8 guild](https://pep8.org/)\n",
    "\n",
    "Linting programs (Delinting is probably more correct) are used to help you automatically review your python source code and provide helpful hints on where the code does not meet a coding standard and/or how you could make your code look better. The Anaconda installation comes with the most standard linting program [pylint](http://www.pylint.org/).\n",
    "\n",
    "\n",
    "There are a few linting programs made for jupyter notebooks but none of them (that I know of) come with the Anaconda install. Instead most linting is done on python scripts.  The following programs are designed to help you analize your code to make it better:\n",
    "\n",
    "* [coverage.py](https://coverage.readthedocs.io/en/v4.5.x/) =  measuring code coverage of Python programs\n",
    "* [dovpanda](https://github.com/dovpanda-dev/dovpanda) - direcitons over pandas\n",
    "* [removestar](https://www.asmeurer.com/removestar/) - Tool to automatically replace ```import *``` imports with explicit imports\n",
    "* [pyflakes](https://pypi.org/project/pyflakes/) - Python linter (error checker) ignores style\n",
    "* [pychecker](http://pychecker.sourceforge.net/) - Python error checker\n",
    "* [pyreverse](https://www.logilab.org/blogentry/6883) - UML diagrams for python classes\n",
    "* [black](https://github.com/psf/black) - Uncompromising python code formatter\n",
    "* [autopep8](https://pypi.org/project/autopep8/) - Program that tries to automatically convert your python code to the pep8 standard.\n",
    "* [flynt](https://pypi.org/project/flynt/) - CLI tool to convert a python project’s .format(…) and %-formatted strings to f-strings.\n",
    "* [snoop](https://pypi.org/project/snoop/) - Debugger\n",
    "\n"
   ]
  },
  {
   "cell_type": "markdown",
   "metadata": {},
   "source": [
    "The following file will create a \"lint_requirements.txt\" file in your current folder. We can use a ```requirements``` file to list software that needs to be installed. In this example, lets install a few of the above tools: "
   ]
  },
  {
   "cell_type": "code",
   "execution_count": null,
   "metadata": {},
   "outputs": [],
   "source": [
    "%%writefile lint_requirements.txt\n",
    "converge\n",
    "pyflakes\n",
    "pylint\n",
    "removestar"
   ]
  },
  {
   "cell_type": "markdown",
   "metadata": {},
   "source": [
    "Now lets create a conda enviornment using these requirements."
   ]
  },
  {
   "cell_type": "markdown",
   "metadata": {},
   "source": [
    "----\n",
    "<a name=\"Installing_linters\"></a>\n",
    "\n",
    "# 2. Installing Linters\n",
    "\n",
    "&#9989;**<font color=red>QUESTION:</font>** Where you able to install one of the linters?  If not, where did you get stuck?\n",
    "\n",
    "Yes, I was able to install Pyflakes"
   ]
  },
  {
   "cell_type": "markdown",
   "metadata": {},
   "source": [
    "----\n",
    "<a name=\"Code_Review\"></a>\n",
    "\n",
    "# 3. Lint your code\n",
    "\n",
    "&#9989;**<font color=red>DO THIS:</font>** Using pylint measure the amount of \"lint\" in each of your python files (This is on a scale of 10). Modify your code to improve your pylint score.  Try to get your code to a level something above 6 or 7.  See if you can even reach a level of 10 for some/all of your files.  \n",
    "\n",
    "\n"
   ]
  },
  {
   "cell_type": "markdown",
   "metadata": {},
   "source": [
    "In general, my code was full of \"lint\", mostly due to incorrect naming conventions for variables. However, in many cases, the variable names made sense in the context of the application (e.g., labelling quantities and many-body diagrams consistent with what they would look like when derived using literature notation), hence I did not think it was a good idea to change most of the variable names. As a result, I had low lint scores, but I was able to fix most of the other errors related to whitespace errors and import statements in my code."
   ]
  },
  {
   "cell_type": "markdown",
   "metadata": {},
   "source": [
    "-----\n",
    "\n",
    "### Congratulations, you are done!\n",
    "\n",
    "Now, you just need to commit and push this report to your project git repository. "
   ]
  }
 ],
 "metadata": {
  "anaconda-cloud": {},
  "kernelspec": {
   "display_name": "Python 3",
   "language": "python",
   "name": "python3"
  },
  "language_info": {
   "codemirror_mode": {
    "name": "ipython",
    "version": 3
   },
   "file_extension": ".py",
   "mimetype": "text/x-python",
   "name": "python",
   "nbconvert_exporter": "python",
   "pygments_lexer": "ipython3",
   "version": "3.7.1"
  }
 },
 "nbformat": 4,
 "nbformat_minor": 4
}
