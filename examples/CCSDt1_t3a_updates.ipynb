{
 "cells": [
  {
   "cell_type": "code",
   "execution_count": 74,
   "id": "a21939c0",
   "metadata": {},
   "outputs": [],
   "source": [
    "import numpy as np"
   ]
  },
  {
   "cell_type": "code",
   "execution_count": null,
   "id": "9a758d4a",
   "metadata": {},
   "outputs": [],
   "source": [
    "def get_error(x, y):\n",
    "    error = x - y\n",
    "    print( np.linalg.norm(error.flatten()) )"
   ]
  },
  {
   "cell_type": "code",
   "execution_count": 75,
   "id": "0cc015b0",
   "metadata": {},
   "outputs": [
    {
     "name": "stdout",
     "output_type": "stream",
     "text": [
      "converged SCF energy = -198.420096282673\n",
      "   System Information:\n",
      "   ----------------------------------------------------\n",
      "     Number of correlated electrons = 14\n",
      "     Number of correlated orbitals = 28\n",
      "     Number of frozen orbitals = 2\n",
      "     Number of alpha occupied orbitals = 7\n",
      "     Number of alpha unoccupied orbitals = 21\n",
      "     Number of beta occupied orbitals = 7\n",
      "     Number of beta unoccupied orbitals = 21\n",
      "     Charge = 0\n",
      "     Point group = D2h\n",
      "     Symmetry of reference = AG\n",
      "     Spin multiplicity of reference = 1\n",
      "\n",
      "      MO #        Energy (a.u.)      Symmetry    Occupation\n",
      "-----------------------------------------------------------\n",
      "         1           -26.443066            AG           2.0\n",
      "         2           -26.443033           B1U           2.0\n",
      "         3            -1.597219            AG           2.0\n",
      "         4            -1.589112           B1U           2.0\n",
      "         5            -0.725614           B2U           2.0\n",
      "         6            -0.725614           B3U           2.0\n",
      "         7            -0.722377           B2G           2.0\n",
      "         8            -0.722377           B3G           2.0\n",
      "         9            -0.478973            AG           2.0\n",
      "        10            -0.250869           B1U           0.0\n",
      "        11             1.296261            AG           0.0\n",
      "        12             1.356322           B2U           0.0\n",
      "        13             1.356322           B3U           0.0\n",
      "        14             1.389531           B2G           0.0\n",
      "        15             1.389531           B3G           0.0\n",
      "        16             1.483239           B1U           0.0\n",
      "        17             1.541852            AG           0.0\n",
      "        18             1.637166           B1U           0.0\n",
      "        19             3.890281            AG           0.0\n",
      "        20             3.893612           B1U           0.0\n",
      "        21             3.896658           B2U           0.0\n",
      "        22             3.896658           B3U           0.0\n",
      "        23             3.897895           B2G           0.0\n",
      "        24             3.897895           B3G           0.0\n",
      "        25             3.913590            AG           0.0\n",
      "        26             3.913590           B1G           0.0\n",
      "        27             3.913591            AU           0.0\n",
      "        28             3.913591           B1U           0.0\n",
      "        29             7.541717            AG           0.0\n",
      "        30             7.601742           B1U           0.0\n",
      "\n",
      "   Nuclear Repulsion Energy = 15.178999760134326\n",
      "   Reference Energy = -198.42009628267272\n",
      "\n"
     ]
    }
   ],
   "source": [
    "from pyscf import gto, scf\n",
    "\n",
    "from ccpy.models.calculation import Calculation\n",
    "from ccpy.interfaces.pyscf_tools import load_pyscf_integrals\n",
    "from ccpy.drivers.driver import cc_driver\n",
    "\n",
    "mol = gto.Mole()\n",
    "mol.build(\n",
    "    atom=\"\"\"F 0.0 0.0 -2.66816\n",
    "            F 0.0 0.0  2.66816\"\"\",\n",
    "    basis=\"ccpvdz\",\n",
    "    charge=0,\n",
    "    spin=0,\n",
    "    symmetry=\"D2H\",\n",
    "    cart=True,\n",
    "    unit='Bohr',\n",
    ")\n",
    "mf = scf.ROHF(mol)\n",
    "mf.kernel()\n",
    "\n",
    "\n",
    "system, H0 = load_pyscf_integrals(mf, nfrozen=2)\n",
    "system.print_info()"
   ]
  },
  {
   "cell_type": "code",
   "execution_count": 76,
   "id": "181879de",
   "metadata": {},
   "outputs": [
    {
     "name": "stdout",
     "output_type": "stream",
     "text": [
      "   --------------------------------------------------\n",
      "   Calculation type =  CCSDT\n",
      "   Maximum iterations = 60\n",
      "   Convergence tolerance = 1e-08\n",
      "   Energy shift = 0.0\n",
      "   DIIS size =  6\n",
      "   RHF symmetry = False\n",
      "   --------------------------------------------------\n",
      "\n",
      "   CC calculation started at 2022-03-09 12:02:00 \n",
      "\n",
      "   Energy of initial guess =         0.0000000000\n",
      "\n",
      "                 Iter.         Residuum                 δE                  ΔE               Wall time\n",
      "-----------------------------------------------------------------------------------------------------\n",
      "                   0         0.7950811421        -0.5760307223        -0.5760307223          (0.0m 6.9s)\n",
      "                   1         0.2600010113        -0.0470790932        -0.6231098155          (0.0m 7.6s)\n",
      "                   2         0.0673753279        -0.0073211685        -0.6304309840          (0.0m 7.6s)\n",
      "                   3         0.0268057665        -0.0056287055        -0.6360596895          (0.0m 7.1s)\n",
      "                   4         0.0079600975        -0.0005734592        -0.6366331487          (0.0m 7.5s)\n",
      "                   5         0.0050229976        -0.0012493460        -0.6378824947          (0.0m 7.3s)\n",
      "   DIIS Cycle - 1\n",
      "                   6         0.0014377555         0.0001119264        -0.6377705683          (0.0m 9.0s)\n",
      "                   7         0.0005536632        -0.0003227677        -0.6380933360          (0.0m 6.0s)\n",
      "                   8         0.0005331176        -0.0000073408        -0.6381006768          (0.0m 7.2s)\n",
      "                   9         0.0005207202         0.0000039473        -0.6380967295          (0.0m 8.6s)\n",
      "                  10         0.0005097424        -0.0000031174        -0.6380998469         (0.0m 10.1s)\n",
      "                  11         0.0004992780         0.0000013888        -0.6380984582          (0.0m 8.0s)\n",
      "   DIIS Cycle - 2\n",
      "                  12         0.0004891374        -0.0000012394        -0.6380996975          (0.0m 8.5s)\n",
      "                  13         0.0000190081        -0.0000048926        -0.6381045901          (0.0m 6.3s)\n",
      "                  14         0.0000058127        -0.0000013757        -0.6381059658          (0.0m 7.5s)\n",
      "                  15         0.0000046438         0.0000012623        -0.6381047035          (0.0m 8.2s)\n",
      "                  16         0.0000023650        -0.0000006045        -0.6381053080          (0.0m 7.5s)\n",
      "                  17         0.0000019934         0.0000004378        -0.6381048702          (0.0m 7.7s)\n",
      "   DIIS Cycle - 3\n",
      "                  18         0.0000015888        -0.0000002411        -0.6381051113          (0.0m 8.8s)\n",
      "                  19         0.0000012754         0.0000001060        -0.6381050054          (0.0m 6.2s)\n",
      "                  20         0.0000012413        -0.0000000094        -0.6381050148          (0.0m 7.2s)\n",
      "                  21         0.0000012146         0.0000000078        -0.6381050070          (0.0m 7.8s)\n",
      "                  22         0.0000011897        -0.0000000044        -0.6381050114          (0.0m 7.6s)\n",
      "                  23         0.0000011653         0.0000000024        -0.6381050090          (0.0m 7.6s)\n",
      "   DIIS Cycle - 4\n",
      "                  24         0.0000011417        -0.0000000019        -0.6381050109          (0.0m 8.3s)\n",
      "                  25         0.0000000388        -0.0000000117        -0.6381050226          (0.0m 6.0s)\n",
      "                  26         0.0000000128        -0.0000000032        -0.6381050257          (0.0m 8.3s)\n",
      "                  27         0.0000000106         0.0000000030        -0.6381050227          (0.0m 7.4s)\n",
      "                  28         0.0000000054        -0.0000000014        -0.6381050241          (0.0m 6.6s)\n",
      "   CC calculation successfully converged! (3.00m  40.23s)\n",
      "\n",
      "   CC Calculation Summary\n",
      "  --------------------------------------------------\n",
      "   Reference energy                   -198.42009628\n",
      "   CC correlation energy                -0.63810502\n",
      "   Total CC energy                    -199.05820131\n",
      "\n",
      "CC calculation ended at 2022-03-09 12:06:39\n"
     ]
    }
   ],
   "source": [
    "calculation = Calculation(\n",
    "    order=3,\n",
    "    active_orders=[None],\n",
    "    num_active=[None],\n",
    "    calculation_type=\"ccsdt\",\n",
    "    convergence_tolerance=1.0e-08\n",
    ")\n",
    "\n",
    "T0, total_energy, is_converged = cc_driver(calculation, system, H0)"
   ]
  },
  {
   "cell_type": "code",
   "execution_count": 77,
   "id": "d891ebeb",
   "metadata": {},
   "outputs": [],
   "source": [
    "from ccpy.hbar.hbar_ccsd import build_hbar_ccsd\n",
    "\n",
    "H = build_hbar_ccsd(T0, H0)"
   ]
  },
  {
   "cell_type": "code",
   "execution_count": 78,
   "id": "dc002c76",
   "metadata": {},
   "outputs": [],
   "source": [
    "noccupied_alpha = T0.a.shape[1]\n",
    "nunoccupied_alpha = T0.a.shape[0]\n",
    "noccupied_beta = T0.b.shape[1]\n",
    "nunoccupied_beta = T0.b.shape[0]\n",
    "\n",
    "nact_occupied_alpha = 2\n",
    "nact_unoccupied_alpha = 3\n",
    "nact_occupied_beta = 2\n",
    "nact_unoccupied_beta = 3\n",
    "\n",
    "nunact_occupied_alpha = noccupied_alpha - nact_occupied_alpha\n",
    "nunact_unoccupied_alpha = nunoccupied_alpha - nact_unoccupied_alpha\n",
    "nunact_occupied_beta = noccupied_beta - nact_occupied_beta\n",
    "nunact_unoccupied_beta = nunoccupied_beta - nact_unoccupied_beta\n",
    "\n",
    "oa = slice(0, noccupied_alpha - nact_occupied_alpha)\n",
    "Oa = slice(noccupied_alpha - nact_occupied_alpha, noccupied_alpha)\n",
    "va = slice(nact_unoccupied_alpha, nunoccupied_alpha)\n",
    "Va = slice(0, nact_unoccupied_alpha)\n",
    "\n",
    "ob = slice(0, noccupied_beta - nact_occupied_beta)\n",
    "Ob = slice(noccupied_beta - nact_occupied_beta, noccupied_beta)\n",
    "vb = slice(nact_unoccupied_beta, nunoccupied_beta)\n",
    "Vb = slice(0, nact_unoccupied_beta)\n",
    "\n",
    "shift = 0.0"
   ]
  },
  {
   "cell_type": "code",
   "execution_count": 79,
   "id": "a48ac682",
   "metadata": {},
   "outputs": [],
   "source": [
    "# An additional step needs to be done. We need to zero all T3 amplitudes \n",
    "# outside of the active space before computing the full CCSDT updates.\n",
    "# This is because the active-space CC updates assume that T3 is 0 outside of\n",
    "# the active space. If this is not true in the full scheme, then the results\n",
    "# will not match."
   ]
  },
  {
   "cell_type": "code",
   "execution_count": 103,
   "id": "74168314",
   "metadata": {},
   "outputs": [],
   "source": [
    "# Populating the active-space structure\n",
    "from ccpy.models.operators import ClusterOperator\n",
    "\n",
    "T = ClusterOperator(system, 3, active_orders=[3], num_active=[1])\n",
    "T.aaa.VVVOOO = T0.aaa[Va, Va, Va, Oa, Oa, Oa]\n",
    "T.aaa.VVvOOO = T0.aaa[Va, Va, va, Oa, Oa, Oa]\n",
    "T.aaa.VVVoOO = T0.aaa[Va, Va, Va, oa, Oa, Oa]\n",
    "T.aaa.VVvoOO = T0.aaa[Va, Va, va, oa, Oa, Oa]\n",
    "T.aaa.VvvOOO = T0.aaa[Va, va, va, Oa, Oa, Oa]\n",
    "T.aaa.VVVooO = T0.aaa[Va, Va, Va, oa, oa, Oa]\n",
    "T.aaa.VVvooO = T0.aaa[Va, Va, va, oa, oa, Oa]\n",
    "T.aaa.VvvoOO = T0.aaa[Va, va, va, oa, Oa, Oa]\n",
    "T.aaa.VvvooO = T0.aaa[Va, va, va, oa, oa, Oa]\n",
    "\n",
    "T.aaa.VVVOOO = T0.aaa[Va, Va, Va, Oa, Oa, Oa]\n",
    "T.aaa.VVvOOO = T0.aaa[Va, Va, va, Oa, Oa, Oa]\n",
    "T.aaa.VVVoOO = T0.aaa[Va, Va, Va, oa, Oa, Oa]\n",
    "T.aaa.VVvoOO = T0.aaa[Va, Va, va, oa, Oa, Oa]\n",
    "T.aaa.VvvOOO = T0.aaa[Va, va, va, Oa, Oa, Oa]\n",
    "T.aaa.VVVooO = T0.aaa[Va, Va, Va, oa, oa, Oa]\n",
    "T.aaa.VVvooO = T0.aaa[Va, Va, va, oa, oa, Oa]\n",
    "T.aaa.VvvoOO = T0.aaa[Va, va, va, oa, Oa, Oa]\n",
    "T.aaa.VvvooO = T0.aaa[Va, va, va, oa, oa, Oa]\n",
    "\n",
    "# T.aab\n",
    "T.aab.VVVOOO = T0.aab[Va,Va,Vb,Oa,Oa,Ob]\n",
    "T.aab.VVVoOO = T0.aab[Va,Va,Vb,oa,Oa,Ob]\n",
    "T.aab.VVVOOo = T0.aab[Va,Va,Vb,Oa,Oa,ob]\n",
    "T.aab.VVVoOo = T0.aab[Va,Va,Vb,oa,Oa,ob]\n",
    "T.aab.VVVooO = T0.aab[Va,Va,Vb,oa,oa,Ob]\n",
    "T.aab.VVVooo = T0.aab[Va,Va,Vb,oa,oa,ob]\n",
    "\n",
    "T.aab.VvVOOO = T0.aab[Va,va,Vb,Oa,Oa,Ob]\n",
    "T.aab.VvVoOO = T0.aab[Va,va,Vb,oa,Oa,Ob]\n",
    "T.aab.VvVOOo = T0.aab[Va,va,Vb,Oa,Oa,ob]\n",
    "T.aab.VvVoOo = T0.aab[Va,va,Vb,oa,Oa,ob]\n",
    "T.aab.VvVooO = T0.aab[Va,va,Vb,oa,oa,Ob]\n",
    "T.aab.VvVooo = T0.aab[Va,va,Vb,oa,oa,ob]\n",
    "\n",
    "T.aab.VVvOOO = T0.aab[Va,Va,vb,Oa,Oa,Ob]\n",
    "T.aab.VVvoOO = T0.aab[Va,Va,vb,oa,Oa,Ob]\n",
    "T.aab.VVvOOo = T0.aab[Va,Va,vb,Oa,Oa,ob]\n",
    "T.aab.VVvoOo = T0.aab[Va,Va,vb,oa,Oa,ob]\n",
    "T.aab.VVvooO = T0.aab[Va,Va,vb,oa,oa,Ob]\n",
    "T.aab.VVvooo = T0.aab[Va,Va,vb,oa,oa,ob]\n",
    "\n",
    "T.aab.VvvOOO = T0.aab[Va,va,vb,Oa,Oa,Ob]\n",
    "T.aab.VvvoOO = T0.aab[Va,va,vb,oa,Oa,Ob]\n",
    "T.aab.VvvOOo = T0.aab[Va,va,vb,Oa,Oa,ob]\n",
    "T.aab.VvvoOo = T0.aab[Va,va,vb,oa,Oa,ob]\n",
    "T.aab.VvvooO = T0.aab[Va,va,vb,oa,oa,Ob]\n",
    "T.aab.Vvvooo = T0.aab[Va,va,vb,oa,oa,ob]\n",
    "\n",
    "T.aab.vvVOOO = T0.aab[va,va,Vb,Oa,Oa,Ob]\n",
    "T.aab.vvVoOO = T0.aab[va,va,Vb,oa,Oa,Ob]\n",
    "T.aab.vvVOOo = T0.aab[va,va,Vb,Oa,Oa,ob]\n",
    "T.aab.vvVoOo = T0.aab[va,va,Vb,oa,Oa,ob]\n",
    "T.aab.vvVooO = T0.aab[va,va,Vb,oa,oa,Ob]\n",
    "T.aab.vvVooo = T0.aab[va,va,Vb,oa,oa,ob]\n",
    "\n",
    "T.aab.vvvOOO = T0.aab[va,va,vb,Oa,Oa,Ob]\n",
    "T.aab.vvvoOO = T0.aab[va,va,vb,oa,Oa,Ob]\n",
    "T.aab.vvvOOo = T0.aab[va,va,vb,Oa,Oa,ob]\n",
    "T.aab.vvvoOo = T0.aab[va,va,vb,oa,Oa,ob]\n",
    "T.aab.vvvooO = T0.aab[va,va,vb,oa,oa,Ob]\n",
    "T.aab.vvvooo = T0.aab[va,va,vb,oa,oa,ob]"
   ]
  },
  {
   "cell_type": "code",
   "execution_count": 104,
   "id": "233fb421",
   "metadata": {},
   "outputs": [],
   "source": [
    "from ccpy.utilities.updates import cc_loops2\n",
    "from ccpy.utilities.updates import cc_active_loops"
   ]
  },
  {
   "cell_type": "code",
   "execution_count": 108,
   "id": "5077bbb4",
   "metadata": {},
   "outputs": [],
   "source": [
    "# The issue here is that the diagram with an extra weight factor is not actually equal to the\n",
    "# underlying diagram with the correct antisymmetrizer applied. They are only equal once ALL\n",
    "# antisymmetrizers are applied to the former diagram. That is the point of the weight factor! \n",
    "# As a result, you won't see equivalence until you apply the full antisymmetrizer within the \n",
    "# update loop.\n",
    "\n",
    "# Diagram 1:\n",
    "D1 = -np.einsum(\"mk,abcijm->abcijk\", H.a.oo, T0.aaa, optimize=True)\n",
    "D1 -= np.transpose(D1, (0, 1, 2, 5, 4, 3)) + np.transpose(D1, (0, 1, 2, 3, 5, 4))\n",
    "\n",
    "D2 = np.einsum('ae,ebcijk->abcijk', H.a.vv, T0.aaa, optimize=True)\n",
    "D2 -= np.transpose(D2, (1, 0, 2, 3, 4, 5)) + np.transpose(D2, (2, 1, 0, 3, 4, 5))\n",
    "\n",
    "D3 = 0.5 * np.einsum('mnij,abcmnk->abcijk', H.aa.oooo, T0.aaa, optimize=True)\n",
    "D3 -= np.transpose(D3, (0, 1, 2, 5, 4, 3)) + np.transpose(D3, (0, 1, 2, 3, 5, 4))\n",
    "\n",
    "D4 = 0.5 * np.einsum('abef,efcijk->abcijk', H.aa.vvvv, T0.aaa, optimize=True)\n",
    "D4 -= np.transpose(D4, (2, 1, 0, 3, 4, 5)) + np.transpose(D4, (0, 2, 1, 3, 4, 5))\n",
    "\n",
    "D5 = np.einsum('amie,ebcmjk->abcijk', H.aa.voov, T0.aaa, optimize=True)\n",
    "D5 -= np.transpose(D5, (1, 0, 2, 3, 4, 5)) + np.transpose(D5, (2, 1, 0, 3, 4, 5))\n",
    "D5 -= np.transpose(D5, (0, 1, 2, 4, 3, 5)) + np.transpose(D5, (0, 1, 2, 5, 4, 3))\n",
    "\n",
    "D6 = np.einsum('amie,bcejkm->abcijk', H.ab.voov, T0.aab, optimize=True)\n",
    "D6 -= np.transpose(D6, (1, 0, 2, 3, 4, 5)) + np.transpose(D6, (2, 1, 0, 3, 4, 5))\n",
    "D6 -= np.transpose(D6, (0, 1, 2, 4, 3, 5)) + np.transpose(D6, (0, 1, 2, 5, 4, 3))\n",
    "\n",
    "X3A = D1 + D2 + D3 + D4 + D5 + D6"
   ]
  },
  {
   "cell_type": "markdown",
   "id": "da742e9d",
   "metadata": {},
   "source": [
    "## Projection 1"
   ]
  },
  {
   "cell_type": "code",
   "execution_count": 109,
   "id": "d02d07be",
   "metadata": {},
   "outputs": [
    {
     "name": "stdout",
     "output_type": "stream",
     "text": [
      "0.0\n"
     ]
    }
   ],
   "source": [
    "D1_proj1 = (\n",
    "        +1.0 * np.einsum('mI,CBAmJK->ABCIJK', H.a.oo[oa, Oa], T.aaa.VVVoOO, optimize=True)\n",
    "        + 1.0 * np.einsum('MI,CBAMJK->ABCIJK', H.a.oo[Oa, Oa], T.aaa.VVVOOO, optimize=True)\n",
    ")\n",
    "D1_proj1 -= np.transpose(D1_proj1, (0, 1, 2, 5, 4, 3)) + np.transpose(D1_proj1, (0, 1, 2, 4, 3, 5))\n",
    "\n",
    "D2_proj1 = (\n",
    "        -1.0*np.einsum('Ae,CBeIJK->ABCIJK', H.a.vv[Va, va], T.aaa.VVvOOO, optimize=True)\n",
    "        -1.0*np.einsum('AE,CBEIJK->ABCIJK', H.a.vv[Va, Va], T.aaa.VVVOOO, optimize=True)\n",
    ")\n",
    "D2_proj1 -= np.transpose(D2_proj1, (1, 0, 2, 3, 4, 5)) + np.transpose(D2_proj1, (2, 1, 0, 3, 4, 5))\n",
    "\n",
    "D3_proj1 = (\n",
    "        -0.5*np.einsum('mnIJ,CBAmnK->ABCIJK', H.aa.oooo[oa, oa, Oa, Oa], T.aaa.VVVooO, optimize=True)\n",
    "        -1.0*np.einsum('mNIJ,CBAmNK->ABCIJK', H.aa.oooo[oa, Oa, Oa, Oa], T.aaa.VVVoOO, optimize=True)\n",
    "        -0.5*np.einsum('MNIJ,CBAMNK->ABCIJK', H.aa.oooo[Oa, Oa, Oa, Oa], T.aaa.VVVOOO, optimize=True)\n",
    ")\n",
    "D3_proj1 -= np.transpose(D3_proj1, (0, 1, 2, 5, 4, 3)) + np.transpose(D3_proj1, (0, 1, 2, 3, 5, 4))\n",
    "\n",
    "D4_proj1 = (\n",
    "        -0.5*np.einsum('ABef,CfeIJK->ABCIJK', H.aa.vvvv[Va, Va, va, va], T.aaa.VvvOOO, optimize=True)\n",
    "        -1.0*np.einsum('ABeF,CFeIJK->ABCIJK', H.aa.vvvv[Va, Va, va, Va], T.aaa.VVvOOO, optimize=True)\n",
    "        -0.5*np.einsum('ABEF,CFEIJK->ABCIJK', H.aa.vvvv[Va, Va, Va, Va], T.aaa.VVVOOO, optimize=True)\n",
    ")\n",
    "D4_proj1 -= np.transpose(D4_proj1, (2, 1, 0, 3, 4, 5)) + np.transpose(D4_proj1, (0, 2, 1, 3, 4, 5))\n",
    "\n",
    "D5_proj1 = (\n",
    "        -1.0*np.einsum('AmIe,CBemJK->ABCIJK', H.aa.voov[Va, oa, Oa, va], T.aaa.VVvoOO, optimize=True)\n",
    "        -1.0*np.einsum('AMIe,CBeMJK->ABCIJK', H.aa.voov[Va, Oa, Oa, va], T.aaa.VVvOOO, optimize=True)\n",
    "        -1.0*np.einsum('AmIE,CBEmJK->ABCIJK', H.aa.voov[Va, oa, Oa, Va], T.aaa.VVVoOO, optimize=True)\n",
    "        -1.0*np.einsum('AMIE,CBEMJK->ABCIJK', H.aa.voov[Va, Oa, Oa, Va], T.aaa.VVVOOO, optimize=True)\n",
    ")\n",
    "D5_proj1 -= np.transpose(D5_proj1, (1, 0, 2, 3, 4, 5)) + np.transpose(D5_proj1, (2, 1, 0, 3, 4, 5))\n",
    "D5_proj1 -= np.transpose(D5_proj1, (0, 1, 2, 4, 3, 5)) + np.transpose(D5_proj1, (0, 1, 2, 5, 4, 3))\n",
    "\n",
    "D6_proj1 = (\n",
    "        -1.0*np.einsum('AmIe,CBeJKm->ABCIJK', H.ab.voov[Va, ob, Oa, vb], T.aab.VVvOOo, optimize=True)\n",
    "        -1.0*np.einsum('AmIE,CBEJKm->ABCIJK', H.ab.voov[Va, ob, Oa, Vb], T.aab.VVVOOo, optimize=True)\n",
    "        -1.0*np.einsum('AMIe,CBeJKM->ABCIJK', H.ab.voov[Va, Ob, Oa, vb], T.aab.VVvOOO, optimize=True)\n",
    "        -1.0*np.einsum('AMIE,CBEJKM->ABCIJK', H.ab.voov[Va, Ob, Oa, Vb], T.aab.VVVOOO, optimize=True)\n",
    ")\n",
    "D6_proj1 -= np.transpose(D6_proj1, (1, 0, 2, 3, 4, 5)) + np.transpose(D6_proj1, (2, 1, 0, 3, 4, 5))\n",
    "D6_proj1 -= np.transpose(D6_proj1, (0, 1, 2, 4, 3, 5)) + np.transpose(D6_proj1, (0, 1, 2, 5, 4, 3))\n",
    "\n",
    "X3A_proj1 = D1_proj1 + D2_proj1 + D3_proj1 + D4_proj1 + D5_proj1 + D6_proj1\n",
    "\n",
    "get_error(X3A[Va, Va, Va, Oa, Oa, Oa], X3A_proj1)\n"
   ]
  },
  {
   "cell_type": "markdown",
   "id": "3fc1275a",
   "metadata": {},
   "source": [
    "### Projection 2"
   ]
  },
  {
   "cell_type": "code",
   "execution_count": 67,
   "id": "bec34015",
   "metadata": {},
   "outputs": [
    {
     "name": "stdout",
     "output_type": "stream",
     "text": [
      "0.0\n"
     ]
    }
   ],
   "source": [
    "D1_proj2 = (\n",
    "        +1.0 * np.einsum('mI,BAcmJK->ABcIJK', Hbar.a.oo[oa, Oa], T.aaa.VVvoOO, optimize=True)\n",
    "        + 1.0 * np.einsum('MI,BAcMJK->ABcIJK', Hbar.a.oo[Oa, Oa], T.aaa.VVvOOO, optimize=True)\n",
    ")\n",
    "D1_proj2 -= np.transpose(D1_proj2, (0, 1, 2, 5, 4, 3)) + np.transpose(D1_proj2, (0, 1, 2, 4, 3, 5))\n",
    "\n",
    "x1 =  (\n",
    "        +1.0*np.einsum('AmIe,BcemJK->ABcIJK', H.aa.voov[Va, oa, Oa, va], T.aaa.VvvoOO, optimize=True)\n",
    "        -1.0*np.einsum('AmIE,BEcmJK->ABcIJK', H.aa.voov[Va, oa, Oa, Va], T.aaa.VVvoOO, optimize=True)\n",
    "        +1.0*np.einsum('AMIe,BceMJK->ABcIJK', H.aa.voov[Va, Oa, Oa, va], T.aaa.VvvOOO, optimize=True)\n",
    "        -1.0*np.einsum('AMIE,BEcMJK->ABcIJK', H.aa.voov[Va, Oa, Oa, Va], T.aaa.VVvOOO, optimize=True)\n",
    ")\n",
    "x1 -= np.transpose(x1, (1, 0, 2, 3, 4, 5))\n",
    "x1 -= np.transpose(x1, (0, 1, 2, 4, 3, 5)) + np.transpose(x1, (0, 1, 2, 5, 4, 3))\n",
    "x2 = (\n",
    "        +1.0*np.einsum('cmIe,ABemJK->ABcIJK', H.aa.voov[va, oa, Oa, va], T.aaa.VVvoOO, optimize=True)\n",
    "        +1.0*np.einsum('cmIE,ABEmJK->ABcIJK', H.aa.voov[va, oa, Oa, Va], T.aaa.VVVoOO, optimize=True)\n",
    "        +1.0*np.einsum('cMIe,ABeMJK->ABcIJK', H.aa.voov[va, Oa, Oa, va], T.aaa.VVvOOO, optimize=True)\n",
    "        +1.0*np.einsum('cMIE,ABEMJK->ABcIJK', H.aa.voov[va, Oa, Oa, Va], T.aaa.VVVOOO, optimize=True)\n",
    ")\n",
    "x2 -= np.transpose(x2, (0, 1, 2, 4, 3, 5)) + np.transpose(x2, (0, 1, 2, 5, 4, 3))\n",
    "D5_proj2 = x1 + x2\n",
    "\n",
    "X3A_proj2 = D1_proj2 + D5_proj2\n",
    "\n",
    "get_error(X3A[Va, Va, va, Oa, Oa, Oa], X3A_proj2)"
   ]
  },
  {
   "cell_type": "markdown",
   "id": "52114685",
   "metadata": {},
   "source": [
    "### Projection 3"
   ]
  },
  {
   "cell_type": "code",
   "execution_count": 59,
   "id": "78f0911e",
   "metadata": {},
   "outputs": [
    {
     "name": "stdout",
     "output_type": "stream",
     "text": [
      "0.0\n"
     ]
    }
   ],
   "source": [
    "x1 = (\n",
    "        +1.0 * np.einsum('mi,CBAmJK->ABCiJK', Hbar.a.oo[oa, oa], T.aaa.VVVoOO, optimize=True)\n",
    "        + 1.0 * np.einsum('Mi,CBAMJK->ABCiJK', Hbar.a.oo[Oa, oa], T.aaa.VVVOOO, optimize=True)\n",
    ")\n",
    "x2 = (\n",
    "        -1.0 * np.einsum('mJ,CBAmiK->ABCiJK', Hbar.a.oo[oa, Oa], T.aaa.VVVooO, optimize=True)\n",
    "        + 1.0 * np.einsum('MJ,CBAiMK->ABCiJK', Hbar.a.oo[Oa, Oa], T.aaa.VVVoOO, optimize=True)\n",
    ")\n",
    "x2 -= np.transpose(x2, (0, 1, 2, 3, 5, 4))\n",
    "D1_proj3 = x1 + x2\n",
    "get_error(D1[Va, Va, Va, oa, Oa, Oa], D1_proj3)"
   ]
  },
  {
   "cell_type": "markdown",
   "id": "cbf535b7",
   "metadata": {},
   "source": [
    "### Projection 4"
   ]
  },
  {
   "cell_type": "code",
   "execution_count": 60,
   "id": "2914c882",
   "metadata": {},
   "outputs": [
    {
     "name": "stdout",
     "output_type": "stream",
     "text": [
      "2.9162546041251223e-19\n"
     ]
    }
   ],
   "source": [
    "x1 = (\n",
    "        +1.0 * np.einsum('mi,BAcmJK->ABciJK', Hbar.a.oo[oa, oa], T.aaa.VVvoOO, optimize=True)\n",
    "        + 1.0 * np.einsum('Mi,BAcMJK->ABciJK', Hbar.a.oo[Oa, oa], T.aaa.VVvOOO, optimize=True)\n",
    ")\n",
    "x2 = (\n",
    "        -1.0 * np.einsum('mJ,BAcmiK->ABciJK', Hbar.a.oo[oa, Oa], T.aaa.VVvooO, optimize=True)\n",
    "        + 1.0 * np.einsum('MJ,BAciMK->ABciJK', Hbar.a.oo[Oa, Oa], T.aaa.VVvoOO, optimize=True)\n",
    ")\n",
    "x2 -= np.transpose(x2, (0, 1, 2, 3, 5, 4))\n",
    "D1_proj4 = x1 + x2\n",
    "get_error(D1[Va, Va, va, oa, Oa, Oa], D1_proj4)"
   ]
  },
  {
   "cell_type": "markdown",
   "id": "0b071a02",
   "metadata": {},
   "source": [
    "### Projection 5"
   ]
  },
  {
   "cell_type": "code",
   "execution_count": 61,
   "id": "16550773",
   "metadata": {},
   "outputs": [
    {
     "name": "stdout",
     "output_type": "stream",
     "text": [
      "0.0\n"
     ]
    }
   ],
   "source": [
    "\n",
    "D1_proj5 = (\n",
    "        +1.0 * np.einsum('mI,AcbmJK->AbcIJK', H.a.oo[oa, Oa], T.aaa.VvvoOO, optimize=True)\n",
    "        + 1.0 * np.einsum('MI,AcbMJK->AbcIJK', H.a.oo[Oa, Oa], T.aaa.VvvOOO, optimize=True)\n",
    ")\n",
    "D1_proj5 -= np.transpose(D1_proj5, (0, 1, 2, 4, 3, 5)) + np.transpose(D1_proj5, (0, 1, 2, 5, 4, 3))\n",
    "get_error(D1[Va, va, va, Oa, Oa, Oa], D1_proj5)\n"
   ]
  },
  {
   "cell_type": "markdown",
   "id": "fd746616",
   "metadata": {},
   "source": [
    "### Projection 6"
   ]
  },
  {
   "cell_type": "code",
   "execution_count": null,
   "id": "9208fcd6",
   "metadata": {},
   "outputs": [],
   "source": [
    "# D1_proj6 = (2.0 / 12.0) * (\n",
    "#         +1.0 * np.einsum('mi,CBAmjK->ABCijK', H.a.oo[oa, oa], T.aaa.VVVooO, optimize=True)\n",
    "#         - 1.0 * np.einsum('Mi,CBAjMK->ABCijK', H.a.oo[Oa, oa], T.aaa.VVVoOO, optimize=True)\n",
    "# )\n",
    "# get_error(D1[Va, Va, Va, oa, oa, Oa], D1_proj6)\n"
   ]
  },
  {
   "cell_type": "markdown",
   "id": "4ed27c78",
   "metadata": {},
   "source": [
    "### Projection 7"
   ]
  },
  {
   "cell_type": "code",
   "execution_count": null,
   "id": "60fa185d",
   "metadata": {},
   "outputs": [],
   "source": [
    "# D1_proj7 = (2.0 / 4.0) * (\n",
    "#         +1.0 * np.einsum('mi,BAcmjK->ABcijK', H.a.oo[oa, oa], T.aaa.VVvooO, optimize=True)\n",
    "#         - 1.0 * np.einsum('Mi,BAcjMK->ABcijK', H.a.oo[Oa, oa], T.aaa.VVvoOO, optimize=True)\n",
    "# )\n",
    "# get_error(D1[Va, Va, va, oa, oa, Oa], D1_proj7)"
   ]
  },
  {
   "cell_type": "markdown",
   "id": "9f72f8bd",
   "metadata": {},
   "source": [
    "### Projection 8"
   ]
  },
  {
   "cell_type": "code",
   "execution_count": null,
   "id": "c3d38df1",
   "metadata": {},
   "outputs": [],
   "source": [
    "# D1_proj8 = (1.0 / 4.0) * (\n",
    "#         +1.0 * np.einsum('mi,AcbmJK->AbciJK', H.a.oo[oa, oa], T.aaa.VvvoOO, optimize=True)\n",
    "#         + 1.0 * np.einsum('Mi,AcbMJK->AbciJK', H.a.oo[Oa, oa], T.aaa.VvvOOO, optimize=True)\n",
    "# )\n",
    "# get_error(D1[Va, va, va, oa, Oa, Oa], D1_proj8)\n"
   ]
  },
  {
   "cell_type": "markdown",
   "id": "b2cacef9",
   "metadata": {},
   "source": [
    "### Projection 9"
   ]
  },
  {
   "cell_type": "code",
   "execution_count": null,
   "id": "2ff02f65",
   "metadata": {},
   "outputs": [],
   "source": [
    "# D1_proj9 = (2.0 / 4.0) * (\n",
    "#         +1.0 * np.einsum('mi,AcbmjK->AbcijK', H.a.oo[oa, oa], T.aaa.VvvooO, optimize=True)\n",
    "#         - 1.0 * np.einsum('Mi,AcbjMK->AbcijK', H.a.oo[Oa, oa], T.aaa.VvvoOO, optimize=True)\n",
    "# )\n",
    "# get_error(D1[Va, va, va, oa, oa, Oa], D1_proj9)"
   ]
  }
 ],
 "metadata": {
  "kernelspec": {
   "display_name": "Python 3 (ipykernel)",
   "language": "python",
   "name": "python3"
  },
  "language_info": {
   "codemirror_mode": {
    "name": "ipython",
    "version": 3
   },
   "file_extension": ".py",
   "mimetype": "text/x-python",
   "name": "python",
   "nbconvert_exporter": "python",
   "pygments_lexer": "ipython3",
   "version": "3.9.7"
  }
 },
 "nbformat": 4,
 "nbformat_minor": 5
}
